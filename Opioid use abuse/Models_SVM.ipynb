{
  "nbformat": 4,
  "nbformat_minor": 0,
  "metadata": {
    "colab": {
      "name": "Models_SVM.ipynb",
      "provenance": [],
      "collapsed_sections": []
    },
    "kernelspec": {
      "name": "python3",
      "display_name": "Python 3"
    }
  },
  "cells": [
    {
      "cell_type": "code",
      "metadata": {
        "id": "rN-sh8tEAjM1",
        "colab": {
          "base_uri": "https://localhost:8080/"
        },
        "outputId": "0187c9d0-1575-4571-d3ae-a325b91a8edd"
      },
      "source": [
        "from google.colab import drive\r\n",
        "import pandas as pd\r\n",
        "import numpy as np\r\n",
        "from imblearn.under_sampling import NearMiss \r\n",
        "from sklearn.model_selection import train_test_split\r\n",
        "import matplotlib.pyplot as plt\r\n",
        "from sklearn.preprocessing import StandardScaler\r\n",
        "from sklearn.neighbors import KNeighborsClassifier\r\n",
        "from sklearn.metrics import confusion_matrix\r\n",
        "from sklearn.svm import SVC \r\n",
        "from sklearn.model_selection import GridSearchCV \r\n",
        "from sklearn.metrics import roc_auc_score\r\n",
        "from sklearn.metrics import matthews_corrcoef, accuracy_score \r\n",
        "import itertools\r\n",
        "import seaborn as sns\r\n",
        "SEED=42"
      ],
      "execution_count": 1,
      "outputs": [
        {
          "output_type": "stream",
          "text": [
            "/usr/local/lib/python3.6/dist-packages/sklearn/externals/six.py:31: FutureWarning: The module is deprecated in version 0.21 and will be removed in version 0.23 since we've dropped support for Python 2.7. Please rely on the official version of six (https://pypi.org/project/six/).\n",
            "  \"(https://pypi.org/project/six/).\", FutureWarning)\n",
            "/usr/local/lib/python3.6/dist-packages/sklearn/utils/deprecation.py:144: FutureWarning: The sklearn.neighbors.base module is  deprecated in version 0.22 and will be removed in version 0.24. The corresponding classes / functions should instead be imported from sklearn.neighbors. Anything that cannot be imported from sklearn.neighbors is now part of the private API.\n",
            "  warnings.warn(message, FutureWarning)\n"
          ],
          "name": "stderr"
        }
      ]
    },
    {
      "cell_type": "markdown",
      "metadata": {
        "id": "B8l1E3-jD5PY"
      },
      "source": [
        "# Data"
      ]
    },
    {
      "cell_type": "code",
      "metadata": {
        "colab": {
          "base_uri": "https://localhost:8080/"
        },
        "id": "PZsAY2YvBACP",
        "outputId": "ef275dfd-0fd6-49c4-a1f7-abfde4a3b372"
      },
      "source": [
        "drive.mount('/content/drive')"
      ],
      "execution_count": 2,
      "outputs": [
        {
          "output_type": "stream",
          "text": [
            "Mounted at /content/drive\n"
          ],
          "name": "stdout"
        }
      ]
    },
    {
      "cell_type": "code",
      "metadata": {
        "id": "JaI0L3HRCcIb"
      },
      "source": [
        "data = pd.read_csv('/content/drive/MyDrive/Data/cleaned_final.csv').reset_index(drop=True)"
      ],
      "execution_count": 3,
      "outputs": []
    },
    {
      "cell_type": "code",
      "metadata": {
        "colab": {
          "base_uri": "https://localhost:8080/",
          "height": 294
        },
        "id": "f3uEbhzlPwZl",
        "outputId": "da876b78-526f-4c9f-a200-3f680861c471"
      },
      "source": [
        "data.head()"
      ],
      "execution_count": null,
      "outputs": [
        {
          "output_type": "execute_result",
          "data": {
            "text/html": [
              "<div>\n",
              "<style scoped>\n",
              "    .dataframe tbody tr th:only-of-type {\n",
              "        vertical-align: middle;\n",
              "    }\n",
              "\n",
              "    .dataframe tbody tr th {\n",
              "        vertical-align: top;\n",
              "    }\n",
              "\n",
              "    .dataframe thead th {\n",
              "        text-align: right;\n",
              "    }\n",
              "</style>\n",
              "<table border=\"1\" class=\"dataframe\">\n",
              "  <thead>\n",
              "    <tr style=\"text-align: right;\">\n",
              "      <th></th>\n",
              "      <th>Claimant Age</th>\n",
              "      <th>Number Dependents</th>\n",
              "      <th>Weekly Wage</th>\n",
              "      <th>Percent Impairment</th>\n",
              "      <th>Post Injury Weekly Wage</th>\n",
              "      <th>Surgery Flag</th>\n",
              "      <th>Neurology Payment Flag</th>\n",
              "      <th>Neurosurgery Payment Flag</th>\n",
              "      <th>Dentist Payment Flag</th>\n",
              "      <th>Orthopedic Surgery Payment Flag</th>\n",
              "      <th>Psychiatry Payment Flag</th>\n",
              "      <th>Hand Surgery Payment Flag</th>\n",
              "      <th>Optometrist Payment Flag</th>\n",
              "      <th>Podiatry Payment Flag</th>\n",
              "      <th>HCPCS A Codes</th>\n",
              "      <th>HCPCS B Codes</th>\n",
              "      <th>HCPCS C Codes</th>\n",
              "      <th>HCPCS D Codes</th>\n",
              "      <th>HCPCS E Codes</th>\n",
              "      <th>HCPCS F Codes</th>\n",
              "      <th>HCPCS G Codes</th>\n",
              "      <th>HCPCS H Codes</th>\n",
              "      <th>HCPCS I Codes</th>\n",
              "      <th>HCPCS J Codes</th>\n",
              "      <th>HCPCS K Codes</th>\n",
              "      <th>HCPCS L Codes</th>\n",
              "      <th>HCPCS M Codes</th>\n",
              "      <th>HCPCS N Codes</th>\n",
              "      <th>HCPCS O Codes</th>\n",
              "      <th>HCPCS P Codes</th>\n",
              "      <th>HCPCS Q Codes</th>\n",
              "      <th>HCPCS R Codes</th>\n",
              "      <th>HCPCS S Codes</th>\n",
              "      <th>HCPCS T Codes</th>\n",
              "      <th>HCPCS U Codes</th>\n",
              "      <th>HCPCS V Codes</th>\n",
              "      <th>HCPCS W Codes</th>\n",
              "      <th>HCPCS X Codes</th>\n",
              "      <th>HCPCS Y Codes</th>\n",
              "      <th>HCPCS Z Codes</th>\n",
              "      <th>...</th>\n",
              "      <th>Accident Type Group num_5</th>\n",
              "      <th>Accident Type Group num_1</th>\n",
              "      <th>Accident Type Group num_7</th>\n",
              "      <th>Accident Type Group num_2</th>\n",
              "      <th>Accident Type Group num_8</th>\n",
              "      <th>Accident Type Group num_4</th>\n",
              "      <th>Accident Type Group num_3</th>\n",
              "      <th>Accident Type Group num_9</th>\n",
              "      <th>Accident Type Group num_10</th>\n",
              "      <th>Accident Type Group num_11</th>\n",
              "      <th>Accident Type Group num_12</th>\n",
              "      <th>Accident Type Group num_15</th>\n",
              "      <th>Accident Type Group num_14</th>\n",
              "      <th>Accident Type Group num_13</th>\n",
              "      <th>Accident Type Group num_16</th>\n",
              "      <th>Industry ID_14</th>\n",
              "      <th>Industry ID_13</th>\n",
              "      <th>Industry ID_16</th>\n",
              "      <th>Industry ID_7</th>\n",
              "      <th>Industry ID_10</th>\n",
              "      <th>Industry ID_8</th>\n",
              "      <th>Industry ID_12</th>\n",
              "      <th>Industry ID_17</th>\n",
              "      <th>Industry ID_15</th>\n",
              "      <th>Industry ID_18</th>\n",
              "      <th>Industry ID_6</th>\n",
              "      <th>Industry ID_9</th>\n",
              "      <th>Industry ID_5</th>\n",
              "      <th>Industry ID_4</th>\n",
              "      <th>Industry ID_2</th>\n",
              "      <th>Industry ID_3</th>\n",
              "      <th>Industry ID_11</th>\n",
              "      <th>Industry ID_19</th>\n",
              "      <th>Industry ID_20</th>\n",
              "      <th>Industry ID_0</th>\n",
              "      <th>Industry ID_1</th>\n",
              "      <th>Claimant Age squared</th>\n",
              "      <th>Weekly Wage squared</th>\n",
              "      <th>Claimant Age cubic</th>\n",
              "      <th>Weekly Wage cubic</th>\n",
              "    </tr>\n",
              "  </thead>\n",
              "  <tbody>\n",
              "    <tr>\n",
              "      <th>0</th>\n",
              "      <td>41</td>\n",
              "      <td>0</td>\n",
              "      <td>513.86</td>\n",
              "      <td>0</td>\n",
              "      <td>0.0</td>\n",
              "      <td>0</td>\n",
              "      <td>0</td>\n",
              "      <td>0</td>\n",
              "      <td>0</td>\n",
              "      <td>0</td>\n",
              "      <td>0</td>\n",
              "      <td>0</td>\n",
              "      <td>0</td>\n",
              "      <td>0</td>\n",
              "      <td>0</td>\n",
              "      <td>0</td>\n",
              "      <td>0</td>\n",
              "      <td>0</td>\n",
              "      <td>0</td>\n",
              "      <td>1</td>\n",
              "      <td>0</td>\n",
              "      <td>0</td>\n",
              "      <td>0</td>\n",
              "      <td>1</td>\n",
              "      <td>0</td>\n",
              "      <td>1</td>\n",
              "      <td>0</td>\n",
              "      <td>0</td>\n",
              "      <td>0</td>\n",
              "      <td>0</td>\n",
              "      <td>0</td>\n",
              "      <td>0</td>\n",
              "      <td>0</td>\n",
              "      <td>0</td>\n",
              "      <td>0</td>\n",
              "      <td>0</td>\n",
              "      <td>0</td>\n",
              "      <td>0</td>\n",
              "      <td>0</td>\n",
              "      <td>0</td>\n",
              "      <td>...</td>\n",
              "      <td>0</td>\n",
              "      <td>0</td>\n",
              "      <td>1</td>\n",
              "      <td>0</td>\n",
              "      <td>0</td>\n",
              "      <td>0</td>\n",
              "      <td>0</td>\n",
              "      <td>0</td>\n",
              "      <td>0</td>\n",
              "      <td>0</td>\n",
              "      <td>0</td>\n",
              "      <td>0</td>\n",
              "      <td>0</td>\n",
              "      <td>0</td>\n",
              "      <td>0</td>\n",
              "      <td>0</td>\n",
              "      <td>0</td>\n",
              "      <td>0</td>\n",
              "      <td>0</td>\n",
              "      <td>0</td>\n",
              "      <td>0</td>\n",
              "      <td>0</td>\n",
              "      <td>1</td>\n",
              "      <td>0</td>\n",
              "      <td>0</td>\n",
              "      <td>0</td>\n",
              "      <td>0</td>\n",
              "      <td>0</td>\n",
              "      <td>0</td>\n",
              "      <td>0</td>\n",
              "      <td>0</td>\n",
              "      <td>0</td>\n",
              "      <td>0</td>\n",
              "      <td>0</td>\n",
              "      <td>0</td>\n",
              "      <td>0</td>\n",
              "      <td>1681</td>\n",
              "      <td>264052.1</td>\n",
              "      <td>68921</td>\n",
              "      <td>1.356858e+08</td>\n",
              "    </tr>\n",
              "    <tr>\n",
              "      <th>1</th>\n",
              "      <td>49</td>\n",
              "      <td>0</td>\n",
              "      <td>1186.00</td>\n",
              "      <td>10</td>\n",
              "      <td>0.0</td>\n",
              "      <td>0</td>\n",
              "      <td>0</td>\n",
              "      <td>0</td>\n",
              "      <td>0</td>\n",
              "      <td>1</td>\n",
              "      <td>0</td>\n",
              "      <td>0</td>\n",
              "      <td>0</td>\n",
              "      <td>1</td>\n",
              "      <td>3</td>\n",
              "      <td>0</td>\n",
              "      <td>0</td>\n",
              "      <td>0</td>\n",
              "      <td>0</td>\n",
              "      <td>0</td>\n",
              "      <td>0</td>\n",
              "      <td>0</td>\n",
              "      <td>0</td>\n",
              "      <td>3</td>\n",
              "      <td>0</td>\n",
              "      <td>0</td>\n",
              "      <td>0</td>\n",
              "      <td>0</td>\n",
              "      <td>0</td>\n",
              "      <td>0</td>\n",
              "      <td>0</td>\n",
              "      <td>0</td>\n",
              "      <td>0</td>\n",
              "      <td>0</td>\n",
              "      <td>0</td>\n",
              "      <td>0</td>\n",
              "      <td>0</td>\n",
              "      <td>0</td>\n",
              "      <td>0</td>\n",
              "      <td>3</td>\n",
              "      <td>...</td>\n",
              "      <td>0</td>\n",
              "      <td>0</td>\n",
              "      <td>0</td>\n",
              "      <td>0</td>\n",
              "      <td>0</td>\n",
              "      <td>0</td>\n",
              "      <td>0</td>\n",
              "      <td>0</td>\n",
              "      <td>0</td>\n",
              "      <td>0</td>\n",
              "      <td>0</td>\n",
              "      <td>0</td>\n",
              "      <td>0</td>\n",
              "      <td>0</td>\n",
              "      <td>0</td>\n",
              "      <td>0</td>\n",
              "      <td>0</td>\n",
              "      <td>0</td>\n",
              "      <td>0</td>\n",
              "      <td>0</td>\n",
              "      <td>0</td>\n",
              "      <td>0</td>\n",
              "      <td>1</td>\n",
              "      <td>0</td>\n",
              "      <td>0</td>\n",
              "      <td>0</td>\n",
              "      <td>0</td>\n",
              "      <td>0</td>\n",
              "      <td>0</td>\n",
              "      <td>0</td>\n",
              "      <td>0</td>\n",
              "      <td>0</td>\n",
              "      <td>0</td>\n",
              "      <td>0</td>\n",
              "      <td>0</td>\n",
              "      <td>0</td>\n",
              "      <td>2401</td>\n",
              "      <td>1406596.0</td>\n",
              "      <td>117649</td>\n",
              "      <td>1.668223e+09</td>\n",
              "    </tr>\n",
              "    <tr>\n",
              "      <th>2</th>\n",
              "      <td>35</td>\n",
              "      <td>0</td>\n",
              "      <td>300.00</td>\n",
              "      <td>0</td>\n",
              "      <td>0.0</td>\n",
              "      <td>0</td>\n",
              "      <td>0</td>\n",
              "      <td>0</td>\n",
              "      <td>0</td>\n",
              "      <td>0</td>\n",
              "      <td>0</td>\n",
              "      <td>0</td>\n",
              "      <td>0</td>\n",
              "      <td>0</td>\n",
              "      <td>0</td>\n",
              "      <td>0</td>\n",
              "      <td>0</td>\n",
              "      <td>0</td>\n",
              "      <td>0</td>\n",
              "      <td>0</td>\n",
              "      <td>0</td>\n",
              "      <td>0</td>\n",
              "      <td>0</td>\n",
              "      <td>0</td>\n",
              "      <td>0</td>\n",
              "      <td>0</td>\n",
              "      <td>0</td>\n",
              "      <td>0</td>\n",
              "      <td>0</td>\n",
              "      <td>0</td>\n",
              "      <td>0</td>\n",
              "      <td>0</td>\n",
              "      <td>0</td>\n",
              "      <td>0</td>\n",
              "      <td>0</td>\n",
              "      <td>0</td>\n",
              "      <td>0</td>\n",
              "      <td>0</td>\n",
              "      <td>0</td>\n",
              "      <td>0</td>\n",
              "      <td>...</td>\n",
              "      <td>0</td>\n",
              "      <td>0</td>\n",
              "      <td>0</td>\n",
              "      <td>0</td>\n",
              "      <td>0</td>\n",
              "      <td>0</td>\n",
              "      <td>0</td>\n",
              "      <td>0</td>\n",
              "      <td>0</td>\n",
              "      <td>0</td>\n",
              "      <td>0</td>\n",
              "      <td>0</td>\n",
              "      <td>0</td>\n",
              "      <td>0</td>\n",
              "      <td>0</td>\n",
              "      <td>0</td>\n",
              "      <td>0</td>\n",
              "      <td>0</td>\n",
              "      <td>0</td>\n",
              "      <td>0</td>\n",
              "      <td>0</td>\n",
              "      <td>0</td>\n",
              "      <td>0</td>\n",
              "      <td>0</td>\n",
              "      <td>0</td>\n",
              "      <td>0</td>\n",
              "      <td>1</td>\n",
              "      <td>0</td>\n",
              "      <td>0</td>\n",
              "      <td>0</td>\n",
              "      <td>0</td>\n",
              "      <td>0</td>\n",
              "      <td>0</td>\n",
              "      <td>0</td>\n",
              "      <td>0</td>\n",
              "      <td>0</td>\n",
              "      <td>1225</td>\n",
              "      <td>90000.0</td>\n",
              "      <td>42875</td>\n",
              "      <td>2.700000e+07</td>\n",
              "    </tr>\n",
              "    <tr>\n",
              "      <th>3</th>\n",
              "      <td>30</td>\n",
              "      <td>0</td>\n",
              "      <td>600.00</td>\n",
              "      <td>0</td>\n",
              "      <td>0.0</td>\n",
              "      <td>0</td>\n",
              "      <td>0</td>\n",
              "      <td>0</td>\n",
              "      <td>0</td>\n",
              "      <td>0</td>\n",
              "      <td>0</td>\n",
              "      <td>0</td>\n",
              "      <td>0</td>\n",
              "      <td>0</td>\n",
              "      <td>0</td>\n",
              "      <td>0</td>\n",
              "      <td>0</td>\n",
              "      <td>0</td>\n",
              "      <td>0</td>\n",
              "      <td>0</td>\n",
              "      <td>1</td>\n",
              "      <td>0</td>\n",
              "      <td>0</td>\n",
              "      <td>0</td>\n",
              "      <td>0</td>\n",
              "      <td>0</td>\n",
              "      <td>0</td>\n",
              "      <td>0</td>\n",
              "      <td>0</td>\n",
              "      <td>0</td>\n",
              "      <td>0</td>\n",
              "      <td>0</td>\n",
              "      <td>0</td>\n",
              "      <td>0</td>\n",
              "      <td>0</td>\n",
              "      <td>0</td>\n",
              "      <td>0</td>\n",
              "      <td>0</td>\n",
              "      <td>0</td>\n",
              "      <td>0</td>\n",
              "      <td>...</td>\n",
              "      <td>0</td>\n",
              "      <td>1</td>\n",
              "      <td>0</td>\n",
              "      <td>0</td>\n",
              "      <td>0</td>\n",
              "      <td>0</td>\n",
              "      <td>0</td>\n",
              "      <td>0</td>\n",
              "      <td>0</td>\n",
              "      <td>0</td>\n",
              "      <td>0</td>\n",
              "      <td>0</td>\n",
              "      <td>0</td>\n",
              "      <td>0</td>\n",
              "      <td>0</td>\n",
              "      <td>0</td>\n",
              "      <td>0</td>\n",
              "      <td>0</td>\n",
              "      <td>0</td>\n",
              "      <td>0</td>\n",
              "      <td>0</td>\n",
              "      <td>0</td>\n",
              "      <td>0</td>\n",
              "      <td>0</td>\n",
              "      <td>0</td>\n",
              "      <td>0</td>\n",
              "      <td>1</td>\n",
              "      <td>0</td>\n",
              "      <td>0</td>\n",
              "      <td>0</td>\n",
              "      <td>0</td>\n",
              "      <td>0</td>\n",
              "      <td>0</td>\n",
              "      <td>0</td>\n",
              "      <td>0</td>\n",
              "      <td>0</td>\n",
              "      <td>900</td>\n",
              "      <td>360000.0</td>\n",
              "      <td>27000</td>\n",
              "      <td>2.160000e+08</td>\n",
              "    </tr>\n",
              "    <tr>\n",
              "      <th>4</th>\n",
              "      <td>41</td>\n",
              "      <td>0</td>\n",
              "      <td>385.07</td>\n",
              "      <td>6</td>\n",
              "      <td>0.0</td>\n",
              "      <td>0</td>\n",
              "      <td>0</td>\n",
              "      <td>0</td>\n",
              "      <td>0</td>\n",
              "      <td>0</td>\n",
              "      <td>0</td>\n",
              "      <td>0</td>\n",
              "      <td>0</td>\n",
              "      <td>0</td>\n",
              "      <td>0</td>\n",
              "      <td>0</td>\n",
              "      <td>0</td>\n",
              "      <td>0</td>\n",
              "      <td>0</td>\n",
              "      <td>0</td>\n",
              "      <td>0</td>\n",
              "      <td>0</td>\n",
              "      <td>0</td>\n",
              "      <td>0</td>\n",
              "      <td>0</td>\n",
              "      <td>0</td>\n",
              "      <td>0</td>\n",
              "      <td>0</td>\n",
              "      <td>0</td>\n",
              "      <td>0</td>\n",
              "      <td>0</td>\n",
              "      <td>0</td>\n",
              "      <td>0</td>\n",
              "      <td>0</td>\n",
              "      <td>0</td>\n",
              "      <td>0</td>\n",
              "      <td>0</td>\n",
              "      <td>0</td>\n",
              "      <td>0</td>\n",
              "      <td>0</td>\n",
              "      <td>...</td>\n",
              "      <td>0</td>\n",
              "      <td>0</td>\n",
              "      <td>0</td>\n",
              "      <td>0</td>\n",
              "      <td>0</td>\n",
              "      <td>0</td>\n",
              "      <td>0</td>\n",
              "      <td>0</td>\n",
              "      <td>0</td>\n",
              "      <td>0</td>\n",
              "      <td>0</td>\n",
              "      <td>0</td>\n",
              "      <td>0</td>\n",
              "      <td>0</td>\n",
              "      <td>0</td>\n",
              "      <td>0</td>\n",
              "      <td>0</td>\n",
              "      <td>0</td>\n",
              "      <td>0</td>\n",
              "      <td>1</td>\n",
              "      <td>0</td>\n",
              "      <td>0</td>\n",
              "      <td>0</td>\n",
              "      <td>0</td>\n",
              "      <td>0</td>\n",
              "      <td>0</td>\n",
              "      <td>0</td>\n",
              "      <td>0</td>\n",
              "      <td>0</td>\n",
              "      <td>0</td>\n",
              "      <td>0</td>\n",
              "      <td>0</td>\n",
              "      <td>0</td>\n",
              "      <td>0</td>\n",
              "      <td>0</td>\n",
              "      <td>0</td>\n",
              "      <td>1681</td>\n",
              "      <td>148278.9</td>\n",
              "      <td>68921</td>\n",
              "      <td>5.709776e+07</td>\n",
              "    </tr>\n",
              "  </tbody>\n",
              "</table>\n",
              "<p>5 rows × 213 columns</p>\n",
              "</div>"
            ],
            "text/plain": [
              "   Claimant Age  Number Dependents  ...  Claimant Age cubic  Weekly Wage cubic\n",
              "0            41                  0  ...               68921       1.356858e+08\n",
              "1            49                  0  ...              117649       1.668223e+09\n",
              "2            35                  0  ...               42875       2.700000e+07\n",
              "3            30                  0  ...               27000       2.160000e+08\n",
              "4            41                  0  ...               68921       5.709776e+07\n",
              "\n",
              "[5 rows x 213 columns]"
            ]
          },
          "metadata": {
            "tags": []
          },
          "execution_count": 4
        }
      ]
    },
    {
      "cell_type": "code",
      "metadata": {
        "id": "nVfEtomdE26q"
      },
      "source": [
        "data2 = data.drop(columns=['Opiods Used'])\r\n",
        "names = data2.columns.tolist()"
      ],
      "execution_count": 5,
      "outputs": []
    },
    {
      "cell_type": "code",
      "metadata": {
        "colab": {
          "base_uri": "https://localhost:8080/"
        },
        "id": "7IW4iZA1Cpjd",
        "outputId": "6f58ae3e-5083-4465-8331-03786ad2e6d6"
      },
      "source": [
        "SEED = 42\r\n",
        "X_train, X_test, y_train, y_test=train_test_split(data.drop('Opiods Used', axis=1),\r\n",
        "    data['Opiods Used'],test_size=0.2, stratify=data['Opiods Used'],\r\n",
        "    shuffle=True,\r\n",
        "    random_state=SEED)\r\n",
        "\r\n",
        "#undersampling with NearMiss\r\n",
        "SEED = 42\r\n",
        "nr = NearMiss() \r\n",
        "  \r\n",
        "X_train_miss, y_train_miss = nr.fit_sample(X_train, y_train)"
      ],
      "execution_count": 6,
      "outputs": [
        {
          "output_type": "stream",
          "text": [
            "/usr/local/lib/python3.6/dist-packages/sklearn/utils/deprecation.py:87: FutureWarning: Function safe_indexing is deprecated; safe_indexing is deprecated in version 0.22 and will be removed in version 0.24.\n",
            "  warnings.warn(msg, category=FutureWarning)\n",
            "/usr/local/lib/python3.6/dist-packages/sklearn/utils/deprecation.py:87: FutureWarning: Function safe_indexing is deprecated; safe_indexing is deprecated in version 0.22 and will be removed in version 0.24.\n",
            "  warnings.warn(msg, category=FutureWarning)\n",
            "/usr/local/lib/python3.6/dist-packages/sklearn/utils/deprecation.py:87: FutureWarning: Function safe_indexing is deprecated; safe_indexing is deprecated in version 0.22 and will be removed in version 0.24.\n",
            "  warnings.warn(msg, category=FutureWarning)\n"
          ],
          "name": "stderr"
        }
      ]
    },
    {
      "cell_type": "code",
      "metadata": {
        "id": "5RRCXcgzDTC8"
      },
      "source": [
        "X_train_miss = pd.DataFrame(data=X_train_miss, columns= names)"
      ],
      "execution_count": 7,
      "outputs": []
    },
    {
      "cell_type": "code",
      "metadata": {
        "id": "jzxxPo5eCqMo"
      },
      "source": [
        "X_train_miss.drop(['Claimant Age', 'Post Injury Weekly Wage', 'Neurology Payment Flag',\r\n",
        "       'HCPCS M Codes', 'HCPCS Q Codes', 'HCPCS Y Codes', 'ICD Group 1',\r\n",
        "       'ICD Group 3', 'ICD Group 4', 'ICD Group 7', 'ICD Group 8',\r\n",
        "       'ICD Group 9', 'ICD Group 14', 'ICD Group 20', 'ICD Group 21',\r\n",
        "       'Benefits State_TX', 'Benefits State_PA', 'Benefits State_MD',\r\n",
        "       'Benefits State_IN', 'Benefits State_VA', 'Benefits State_AL',\r\n",
        "       'Benefits State_NV', 'Benefits State_RI', 'Benefits State_DC',\r\n",
        "       'Benefits State_KS', 'Benefits State_UT', 'Benefits State_NE',\r\n",
        "       'Benefits State_WV', 'Benefits State_ME', 'Benefits State_MT',\r\n",
        "       'Benefits State_LH', 'Benefits State_VT', 'Benefits State_WY',\r\n",
        "       'Benefits State_JA', 'Benefits State_ND', 'SIC Group_services',\r\n",
        "       'SIC Group_retail_trade', 'SIC Group_public_admi',\r\n",
        "       'Disability Status_TTD', 'Disability Status_PTD', 'Claimant Sex_M',\r\n",
        "       'Claimant Sex_F', 'Claimant Marital Status_U',\r\n",
        "       'Employment Status Flag_L', 'Employment Status Flag_A',\r\n",
        "       'Employment Status Flag_R', 'Employment Status Flag_B',\r\n",
        "       'Employment Status Flag_C', 'Employment Status Flag_D',\r\n",
        "       'NCCI BINatureOfLossDescription_Strain',\r\n",
        "       'NCCI BINatureOfLossDescription_Sprain',\r\n",
        "       'NCCI BINatureOfLossDescription_Skin',\r\n",
        "       'NCCI BINatureOfLossDescription_Foreign Body',\r\n",
        "       'Accident Type Group num_1', 'Accident Type Group num_4',\r\n",
        "       'Accident Type Group num_11', 'Accident Type Group num_12',\r\n",
        "       'Accident Type Group num_15', 'Accident Type Group num_14',\r\n",
        "       'Accident Type Group num_13', 'Accident Type Group num_16',\r\n",
        "       'Industry ID_14', 'Industry ID_13', 'Industry ID_16', 'Industry ID_12',\r\n",
        "       'Industry ID_18', 'Industry ID_9', 'Industry ID_0', 'Industry ID_1',\r\n",
        "       'Claimant Age squared', 'Weekly Wage squared', 'Weekly Wage cubic'], axis=1, inplace=True)"
      ],
      "execution_count": 8,
      "outputs": []
    },
    {
      "cell_type": "code",
      "metadata": {
        "id": "45833Z5zCqPg"
      },
      "source": [
        "X_test.drop(['Claimant Age', 'Post Injury Weekly Wage', 'Neurology Payment Flag',\r\n",
        "       'HCPCS M Codes', 'HCPCS Q Codes', 'HCPCS Y Codes', 'ICD Group 1',\r\n",
        "       'ICD Group 3', 'ICD Group 4', 'ICD Group 7', 'ICD Group 8',\r\n",
        "       'ICD Group 9', 'ICD Group 14', 'ICD Group 20', 'ICD Group 21',\r\n",
        "       'Benefits State_TX', 'Benefits State_PA', 'Benefits State_MD',\r\n",
        "       'Benefits State_IN', 'Benefits State_VA', 'Benefits State_AL',\r\n",
        "       'Benefits State_NV', 'Benefits State_RI', 'Benefits State_DC',\r\n",
        "       'Benefits State_KS', 'Benefits State_UT', 'Benefits State_NE',\r\n",
        "       'Benefits State_WV', 'Benefits State_ME', 'Benefits State_MT',\r\n",
        "       'Benefits State_LH', 'Benefits State_VT', 'Benefits State_WY',\r\n",
        "       'Benefits State_JA', 'Benefits State_ND', 'SIC Group_services',\r\n",
        "       'SIC Group_retail_trade', 'SIC Group_public_admi',\r\n",
        "       'Disability Status_TTD', 'Disability Status_PTD', 'Claimant Sex_M',\r\n",
        "       'Claimant Sex_F', 'Claimant Marital Status_U',\r\n",
        "       'Employment Status Flag_L', 'Employment Status Flag_A',\r\n",
        "       'Employment Status Flag_R', 'Employment Status Flag_B',\r\n",
        "       'Employment Status Flag_C', 'Employment Status Flag_D',\r\n",
        "       'NCCI BINatureOfLossDescription_Strain',\r\n",
        "       'NCCI BINatureOfLossDescription_Sprain',\r\n",
        "       'NCCI BINatureOfLossDescription_Skin',\r\n",
        "       'NCCI BINatureOfLossDescription_Foreign Body',\r\n",
        "       'Accident Type Group num_1', 'Accident Type Group num_4',\r\n",
        "       'Accident Type Group num_11', 'Accident Type Group num_12',\r\n",
        "       'Accident Type Group num_15', 'Accident Type Group num_14',\r\n",
        "       'Accident Type Group num_13', 'Accident Type Group num_16',\r\n",
        "       'Industry ID_14', 'Industry ID_13', 'Industry ID_16', 'Industry ID_12',\r\n",
        "       'Industry ID_18', 'Industry ID_9', 'Industry ID_0', 'Industry ID_1',\r\n",
        "       'Claimant Age squared', 'Weekly Wage squared', 'Weekly Wage cubic'], axis=1, inplace=True)"
      ],
      "execution_count": 9,
      "outputs": []
    },
    {
      "cell_type": "markdown",
      "metadata": {
        "id": "LDVRgoPvNd6S"
      },
      "source": [
        "# SVM "
      ]
    },
    {
      "cell_type": "markdown",
      "metadata": {
        "id": "o0TRAgQMNeHR"
      },
      "source": [
        "We standardize\r\n"
      ]
    },
    {
      "cell_type": "code",
      "metadata": {
        "id": "lOOoXd68Pq4L"
      },
      "source": [
        "scaler = StandardScaler()\r\n",
        "scaler.fit(X_train_miss)\r\n",
        "\r\n",
        "X_train_miss = scaler.transform(X_train_miss)\r\n",
        "X_test = scaler.transform(X_test)"
      ],
      "execution_count": 10,
      "outputs": []
    },
    {
      "cell_type": "markdown",
      "metadata": {
        "id": "CXQoGU-1P06K"
      },
      "source": [
        "## test the classic SVC without any hyper- parameter tunning"
      ]
    },
    {
      "cell_type": "code",
      "metadata": {
        "colab": {
          "base_uri": "https://localhost:8080/"
        },
        "id": "_6FJy7yUPrcX",
        "outputId": "219220f3-9642-472f-d8b1-cfb8fabddfcb"
      },
      "source": [
        "svc_classifier = SVC(random_state=42) \r\n",
        "svc_classifier.fit(X_train_miss, y_train_miss) \r\n",
        "  \r\n",
        "# print prediction results \r\n",
        "pred = svc_classifier.predict(X_test) \r\n",
        "print(confusion_matrix(y_test, pred))\r\n",
        "print(matthews_corrcoef(y_test, pred))\r\n",
        "print(roc_auc_score(y_test, pred))"
      ],
      "execution_count": null,
      "outputs": [
        {
          "output_type": "stream",
          "text": [
            "[[18464  2920]\n",
            " [   54  2695]]\n",
            "0.6344573449253025\n",
            "0.9219029005820163\n"
          ],
          "name": "stdout"
        }
      ]
    },
    {
      "cell_type": "code",
      "metadata": {
        "id": "igWTXiYODK63"
      },
      "source": [
        "cm=confusion_matrix(y_test,svc_classifier.predict(X_test))\r\n",
        "   \r\n",
        "ax= plt.subplot()\r\n",
        "sns.heatmap(cm, annot=True, ax = ax,fmt='g'); #annot=True to annotate cells\r\n",
        "\r\n",
        "# labels, title and ticks\r\n",
        "ax.set_xlabel('Predicted labels');ax.set_ylabel('True labels'); \r\n",
        "ax.set_title('Confusion Matrix'); \r\n",
        "ax.xaxis.set_ticklabels([0, 1]); ax.yaxis.set_ticklabels([0, 1]);"
      ],
      "execution_count": null,
      "outputs": []
    },
    {
      "cell_type": "markdown",
      "metadata": {
        "id": "rQfyds6IUIXO"
      },
      "source": [
        "## We'll test manually differents parameters variables for the model "
      ]
    },
    {
      "cell_type": "code",
      "metadata": {
        "colab": {
          "base_uri": "https://localhost:8080/"
        },
        "id": "mSednFv7Prgf",
        "outputId": "d55a6ce2-5ac7-45c7-bdf8-359b1ab14204"
      },
      "source": [
        "c_para = [0.1, 1, 10, 100]\r\n",
        "gamma_para = [1, 0.1, 0.01, 0.001]\r\n",
        "kernel = ['sigmoid','poly', 'rbf']\r\n",
        "\r\n",
        "parameters_s1 = [c_para, gamma_para , kernel ]\r\n",
        "parameters_s1 = list(itertools.product(*parameters_s1))\r\n",
        "print( \"all possible combinaisons of parameters : \", parameters_s1)"
      ],
      "execution_count": null,
      "outputs": [
        {
          "output_type": "stream",
          "text": [
            "all possible combinaisons of parameters :  [(0.1, 1, 'sigmoid'), (0.1, 1, 'poly'), (0.1, 1, 'rbf'), (0.1, 0.1, 'sigmoid'), (0.1, 0.1, 'poly'), (0.1, 0.1, 'rbf'), (0.1, 0.01, 'sigmoid'), (0.1, 0.01, 'poly'), (0.1, 0.01, 'rbf'), (0.1, 0.001, 'sigmoid'), (0.1, 0.001, 'poly'), (0.1, 0.001, 'rbf'), (1, 1, 'sigmoid'), (1, 1, 'poly'), (1, 1, 'rbf'), (1, 0.1, 'sigmoid'), (1, 0.1, 'poly'), (1, 0.1, 'rbf'), (1, 0.01, 'sigmoid'), (1, 0.01, 'poly'), (1, 0.01, 'rbf'), (1, 0.001, 'sigmoid'), (1, 0.001, 'poly'), (1, 0.001, 'rbf'), (10, 1, 'sigmoid'), (10, 1, 'poly'), (10, 1, 'rbf'), (10, 0.1, 'sigmoid'), (10, 0.1, 'poly'), (10, 0.1, 'rbf'), (10, 0.01, 'sigmoid'), (10, 0.01, 'poly'), (10, 0.01, 'rbf'), (10, 0.001, 'sigmoid'), (10, 0.001, 'poly'), (10, 0.001, 'rbf'), (100, 1, 'sigmoid'), (100, 1, 'poly'), (100, 1, 'rbf'), (100, 0.1, 'sigmoid'), (100, 0.1, 'poly'), (100, 0.1, 'rbf'), (100, 0.01, 'sigmoid'), (100, 0.01, 'poly'), (100, 0.01, 'rbf'), (100, 0.001, 'sigmoid'), (100, 0.001, 'poly'), (100, 0.001, 'rbf')]\n"
          ],
          "name": "stdout"
        }
      ]
    },
    {
      "cell_type": "code",
      "metadata": {
        "colab": {
          "base_uri": "https://localhost:8080/"
        },
        "id": "y1Omzj_YPrja",
        "outputId": "4520418c-c4a6-4b31-f42b-52de35cdc833"
      },
      "source": [
        "conf_matrix_s1 = []\r\n",
        "AUC_scores_s1 = []\r\n",
        "MCC_scores_s1 = []\r\n",
        "for i in range(len(parameters_s1)):\r\n",
        "    svclassifier = SVC(C= parameters_s1[i][0] , kernel= parameters_s1[i][2], gamma= parameters_s1[i][1], random_state=42 )\r\n",
        "    svclassifier.fit(X_train_miss, y_train_miss)\r\n",
        "    pred = svclassifier.predict(X_test)\r\n",
        "    conf_matrix_s1.append(confusion_matrix(y_test, pred))\r\n",
        "    MCC_scores_s1.append(matthews_corrcoef(y_test, pred))\r\n",
        "    AUC_scores_s1.append(roc_auc_score(y_test, pred))\r\n",
        "      \r\n",
        "    print(i, ' done')"
      ],
      "execution_count": null,
      "outputs": [
        {
          "output_type": "stream",
          "text": [
            "0  done\n",
            "1  done\n",
            "2  done\n",
            "3  done\n",
            "4  done\n",
            "5  done\n",
            "6  done\n",
            "7  done\n",
            "8  done\n",
            "9  done\n",
            "10  done\n",
            "11  done\n",
            "12  done\n",
            "13  done\n",
            "14  done\n",
            "15  done\n",
            "16  done\n",
            "17  done\n",
            "18  done\n",
            "19  done\n",
            "20  done\n",
            "21  done\n",
            "22  done\n",
            "23  done\n",
            "24  done\n",
            "25  done\n",
            "26  done\n",
            "27  done\n",
            "28  done\n",
            "29  done\n",
            "30  done\n",
            "31  done\n",
            "32  done\n",
            "33  done\n",
            "34  done\n",
            "35  done\n",
            "36  done\n",
            "37  done\n",
            "38  done\n",
            "39  done\n",
            "40  done\n",
            "41  done\n",
            "42  done\n",
            "43  done\n",
            "44  done\n",
            "45  done\n",
            "46  done\n",
            "47  done\n"
          ],
          "name": "stdout"
        }
      ]
    },
    {
      "cell_type": "markdown",
      "metadata": {
        "id": "8f8yhRzWD-xy"
      },
      "source": [
        "> Model with the best AUC : \r\n"
      ]
    },
    {
      "cell_type": "code",
      "metadata": {
        "colab": {
          "base_uri": "https://localhost:8080/"
        },
        "id": "PcVpqMe2PrmR",
        "outputId": "2ec511e9-82a8-4ac1-8ec2-ca0aad313bcf"
      },
      "source": [
        "print(parameters_s1[AUC_scores_s1.index(max(AUC_scores_s1))])\r\n",
        "print(max(AUC_scores_s1))\r\n",
        "print(conf_matrix_s1[AUC_scores_s1.index(max(AUC_scores_s1))])  "
      ],
      "execution_count": null,
      "outputs": [
        {
          "output_type": "stream",
          "text": [
            "(100, 0.001, 'rbf')\n",
            "0.9388755129403245\n",
            "[[19221  2163]\n",
            " [   58  2691]]\n"
          ],
          "name": "stdout"
        }
      ]
    },
    {
      "cell_type": "markdown",
      "metadata": {
        "id": "IOcdaJKvESOr"
      },
      "source": [
        "The best model is the one with a C of 100, a gamma of 0.001 and a gaussian Kernel"
      ]
    },
    {
      "cell_type": "code",
      "metadata": {
        "colab": {
          "base_uri": "https://localhost:8080/"
        },
        "id": "mjSl63suWtEq",
        "outputId": "14bc59f4-d979-4761-f3cb-4fd695ba9f82"
      },
      "source": [
        "#Keep all the combinaisons and results just in case\r\n",
        "for i in range(len(parameters_s1)):\r\n",
        "    print(parameters_s1[i])\r\n",
        "    print(AUC_scores_s1[i])\r\n",
        "    print(conf_matrix_s1[i])"
      ],
      "execution_count": null,
      "outputs": [
        {
          "output_type": "stream",
          "text": [
            "(0.1, 1, 'sigmoid')\n",
            "0.8357040556325144\n",
            "[[17220  4164]\n",
            " [  368  2381]]\n",
            "(0.1, 1, 'poly')\n",
            "0.9217509390552112\n",
            "[[18862  2522]\n",
            " [  106  2643]]\n",
            "(0.1, 1, 'rbf')\n",
            "0.5008885147774036\n",
            "[[   38 21346]\n",
            " [    0  2749]]\n",
            "(0.1, 0.1, 'sigmoid')\n",
            "0.8842602289007041\n",
            "[[17772  3612]\n",
            " [  172  2577]]\n",
            "(0.1, 0.1, 'poly')\n",
            "0.9219977978592222\n",
            "[[18857  2527]\n",
            " [  104  2645]]\n",
            "(0.1, 0.1, 'rbf')\n",
            "0.5894047772634936\n",
            "[[ 3847 17537]\n",
            " [    3  2746]]\n",
            "(0.1, 0.01, 'sigmoid')\n",
            "0.919595732325614\n",
            "[[18412  2972]\n",
            " [   60  2689]]\n",
            "(0.1, 0.01, 'poly')\n",
            "0.8805420962518493\n",
            "[[18562  2822]\n",
            " [  294  2455]]\n",
            "(0.1, 0.01, 'rbf')\n",
            "0.8839195785509597\n",
            "[[17034  4350]\n",
            " [   79  2670]]\n",
            "(0.1, 0.001, 'sigmoid')\n",
            "0.9003822955992432\n",
            "[[17987  3397]\n",
            " [  111  2638]]\n",
            "(0.1, 0.001, 'poly')\n",
            "0.5044693155773953\n",
            "[[21334    50]\n",
            " [ 2718    31]]\n",
            "(0.1, 0.001, 'rbf')\n",
            "0.904820361504105\n",
            "[[17959  3425]\n",
            " [   83  2666]]\n",
            "(1, 1, 'sigmoid')\n",
            "0.8342386382178629\n",
            "[[17204  4180]\n",
            " [  374  2375]]\n",
            "(1, 1, 'poly')\n",
            "0.9217509390552112\n",
            "[[18862  2522]\n",
            " [  106  2643]]\n",
            "(1, 1, 'rbf')\n",
            "0.5602787130564908\n",
            "[[ 2578 18806]\n",
            " [    0  2749]]\n",
            "(1, 0.1, 'sigmoid')\n",
            "0.8831767906759822\n",
            "[[17749  3635]\n",
            " [  175  2574]]\n",
            "(1, 0.1, 'poly')\n",
            "0.921878191736423\n",
            "[[18883  2501]\n",
            " [  108  2641]]\n",
            "(1, 0.1, 'rbf')\n",
            "0.7444391573468814\n",
            "[[10812 10572]\n",
            " [   46  2703]]\n",
            "(1, 0.01, 'sigmoid')\n",
            "0.9111690293256316\n",
            "[[18495  2889]\n",
            " [  117  2632]]\n",
            "(1, 0.01, 'poly')\n",
            "0.9058793120295283\n",
            "[[18331  3053]\n",
            " [  125  2624]]\n",
            "(1, 0.01, 'rbf')\n",
            "0.9167094074408856\n",
            "[[18273  3111]\n",
            " [   58  2691]]\n",
            "(1, 0.001, 'sigmoid')\n",
            "0.9212740625880758\n",
            "[[18476  2908]\n",
            " [   59  2690]]\n",
            "(1, 0.001, 'poly')\n",
            "0.5276441628877868\n",
            "[[21275   109]\n",
            " [ 2583   166]]\n",
            "(1, 0.001, 'rbf')\n",
            "0.9240722521688327\n",
            "[[18549  2835]\n",
            " [   53  2696]]\n",
            "(10, 1, 'sigmoid')\n",
            "0.8343503766359552\n",
            "[[17201  4183]\n",
            " [  373  2376]]\n",
            "(10, 1, 'poly')\n",
            "0.9217509390552112\n",
            "[[18862  2522]\n",
            " [  106  2643]]\n",
            "(10, 1, 'rbf')\n",
            "0.5674102132435466\n",
            "[[ 2883 18501]\n",
            " [    0  2749]]\n",
            "(10, 0.1, 'sigmoid')\n",
            "0.881862007910369\n",
            "[[17755  3629]\n",
            " [  183  2566]]\n",
            "(10, 0.1, 'poly')\n",
            "0.9217509390552112\n",
            "[[18862  2522]\n",
            " [  106  2643]]\n",
            "(10, 0.1, 'rbf')\n",
            "0.7577459721774826\n",
            "[[11420  9964]\n",
            " [   51  2698]]\n",
            "(10, 0.01, 'sigmoid')\n",
            "0.9081624348792208\n",
            "[[18592  2792]\n",
            " [  146  2603]]\n",
            "(10, 0.01, 'poly')\n",
            "0.9190829195856276\n",
            "[[18709  2675]\n",
            " [  101  2648]]\n",
            "(10, 0.01, 'rbf')\n",
            "0.9243134972592149\n",
            "[[18676  2708]\n",
            " [   68  2681]]\n",
            "(10, 0.001, 'sigmoid')\n",
            "0.9308685371016118\n",
            "[[18863  2521]\n",
            " [   56  2693]]\n",
            "(10, 0.001, 'poly')\n",
            "0.747259869827167\n",
            "[[20205  1179]\n",
            " [ 1238  1511]]\n",
            "(10, 0.001, 'rbf')\n",
            "0.9338641252670596\n",
            "[[18960  2424]\n",
            " [   52  2697]]\n",
            "(100, 1, 'sigmoid')\n",
            "0.8343503766359552\n",
            "[[17201  4183]\n",
            " [  373  2376]]\n",
            "(100, 1, 'poly')\n",
            "0.9217509390552112\n",
            "[[18862  2522]\n",
            " [  106  2643]]\n",
            "(100, 1, 'rbf')\n",
            "0.5674102132435466\n",
            "[[ 2883 18501]\n",
            " [    0  2749]]\n",
            "(100, 0.1, 'sigmoid')\n",
            "0.882656994816467\n",
            "[[17789  3595]\n",
            " [  183  2566]]\n",
            "(100, 0.1, 'poly')\n",
            "0.9217509390552112\n",
            "[[18862  2522]\n",
            " [  106  2643]]\n",
            "(100, 0.1, 'rbf')\n",
            "0.7577459721774826\n",
            "[[11420  9964]\n",
            " [   51  2698]]\n",
            "(100, 0.01, 'sigmoid')\n",
            "0.9085650997533097\n",
            "[[18617  2767]\n",
            " [  147  2602]]\n",
            "(100, 0.01, 'poly')\n",
            "0.9219977978592222\n",
            "[[18857  2527]\n",
            " [  104  2645]]\n",
            "(100, 0.01, 'rbf')\n",
            "0.923611817078128\n",
            "[[18716  2668]\n",
            " [   77  2672]]\n",
            "(100, 0.001, 'sigmoid')\n",
            "0.9307635606567541\n",
            "[[19193  2191]\n",
            " [   99  2650]]\n",
            "(100, 0.001, 'poly')\n",
            "0.8805420962518493\n",
            "[[18562  2822]\n",
            " [  294  2455]]\n",
            "(100, 0.001, 'rbf')\n",
            "0.9388755129403245\n",
            "[[19221  2163]\n",
            " [   58  2691]]\n"
          ],
          "name": "stdout"
        }
      ]
    },
    {
      "cell_type": "markdown",
      "metadata": {
        "id": "ndthIyCxFIJK"
      },
      "source": [
        "Our best combinaision is he folowwing : (100, 0.001, 'rbf') with an AUC of\r\n",
        "0.9388755129403245 and this confusion matrix : [[19221  2163]\r\n",
        " [   58  2691]]\r\n",
        "\r\n",
        "\r\n",
        "(10, 0.001, 'sigmoid') this combinaison was also good with AUC of  0.0.9308685371016118 and this confusion matrix : [[18863  2521]\r\n",
        " [   56  2693]]\r\n",
        "\r\n",
        "\r\n",
        " (100, 0.01, 'poly') this combinaison was also good with AUC of  0.0.0.9219977978592222 and this confusion matrix : [[18857  2527]\r\n",
        " [  104  2645]]\r\n",
        "\r\n",
        "\r\n"
      ]
    },
    {
      "cell_type": "markdown",
      "metadata": {
        "id": "_nuHAj2xH9Mr"
      },
      "source": [
        "## Let's try a few new parameters with the rbf metric : "
      ]
    },
    {
      "cell_type": "code",
      "metadata": {
        "colab": {
          "base_uri": "https://localhost:8080/"
        },
        "id": "eWX40-HKWtqu",
        "outputId": "320c5f8e-fe4b-4aac-a5ca-d3cca222f597"
      },
      "source": [
        "c_para = [500, 1000]\r\n",
        "gamma_para = [0.00005, 0.0001]\r\n",
        "kernel = ['rbf']\r\n",
        "\r\n",
        "parameters_s2 = [c_para, gamma_para , kernel ]\r\n",
        "parameters_s2 = list(itertools.product(*parameters_s2))\r\n",
        "print( \"all possible combinaisons of parameters : \", parameters_s2)"
      ],
      "execution_count": null,
      "outputs": [
        {
          "output_type": "stream",
          "text": [
            "all possible combinaisons of parameters :  [(500, 5e-05, 'rbf'), (500, 0.0001, 'rbf'), (1000, 5e-05, 'rbf'), (1000, 0.0001, 'rbf')]\n"
          ],
          "name": "stdout"
        }
      ]
    },
    {
      "cell_type": "code",
      "metadata": {
        "colab": {
          "base_uri": "https://localhost:8080/"
        },
        "id": "eywUWtKZWuif",
        "outputId": "cc8a2d10-fa90-4696-cc91-d9078c202fd1"
      },
      "source": [
        "conf_matrix_s2 = []\r\n",
        "AUC_scores_s2 = []\r\n",
        "MCC_scores_s2 = []\r\n",
        "for i in range(len(parameters_s2)):\r\n",
        "    svc2lassifier = SVC(C= parameters_s2[i][0] , kernel= parameters_s2[i][2], gamma= parameters_s2[i][1], random_state=42 )\r\n",
        "    svc2lassifier.fit(X_train_miss, y_train_miss)\r\n",
        "    pred = svc2lassifier.predict(X_test)\r\n",
        "    conf_matrix_s2.append(confusion_matrix(y_test, pred))\r\n",
        "    MCC_scores_s2.append(matthews_corrcoef(y_test, pred))\r\n",
        "    AUC_scores_s2.append(roc_auc_score(y_test, pred))\r\n",
        "      \r\n",
        "    print(i, ' done')"
      ],
      "execution_count": null,
      "outputs": [
        {
          "output_type": "stream",
          "text": [
            "0  done\n",
            "1  done\n",
            "2  done\n",
            "3  done\n"
          ],
          "name": "stdout"
        }
      ]
    },
    {
      "cell_type": "code",
      "metadata": {
        "colab": {
          "base_uri": "https://localhost:8080/"
        },
        "id": "JZYoNaqlWuvV",
        "outputId": "7af89221-054a-4512-952a-ce3ed83c0431"
      },
      "source": [
        "print(parameters_s2[AUC_scores_s2.index(max(AUC_scores_s2))])\r\n",
        "print(max(AUC_scbores_s2))\r\n",
        "print(conf_matrix_s2[AUC_scores_s2.index(max(AUC_scores_s2))])  "
      ],
      "execution_count": null,
      "outputs": [
        {
          "output_type": "stream",
          "text": [
            "(1000, 0.0001, 'rbf')\n",
            "0.9364541311284571\n",
            "[[19133  2251]\n",
            " [   60  2689]]\n"
          ],
          "name": "stdout"
        }
      ]
    },
    {
      "cell_type": "markdown",
      "metadata": {
        "id": "CmQnGMNxKJi5"
      },
      "source": [
        "The previous combinaison: (100, 0.001, 'rbf') was slightly better with  0.9388755129403245 of AUC and this confusion matrix:\r\n",
        "[[19221  2163]\r\n",
        " [   58  2691]]"
      ]
    },
    {
      "cell_type": "markdown",
      "metadata": {
        "id": "6evzVTiTKiG4"
      },
      "source": [
        "## Could also test the linear kernel (we don't need gamma for the linear one): "
      ]
    },
    {
      "cell_type": "code",
      "metadata": {
        "colab": {
          "base_uri": "https://localhost:8080/"
        },
        "id": "1PqVMo_fWu_D",
        "outputId": "10c191c6-9595-4e4d-9b4f-a51edc1ce9a4"
      },
      "source": [
        "c_para = [0.1, 1, 10, 100]\r\n",
        "kernel = ['linear']\r\n",
        "\r\n",
        "parameters_s3 = [c_para, kernel ]\r\n",
        "parameters_s3 = list(itertools.product(*parameters_s3))\r\n",
        "print( \"all possible combinaisons of parameters : \", parameters_s3)"
      ],
      "execution_count": null,
      "outputs": [
        {
          "output_type": "stream",
          "text": [
            "all possible combinaisons of parameters :  [(0.1, 'linear'), (1, 'linear'), (10, 'linear'), (100, 'linear')]\n"
          ],
          "name": "stdout"
        }
      ]
    },
    {
      "cell_type": "code",
      "metadata": {
        "colab": {
          "base_uri": "https://localhost:8080/"
        },
        "id": "N2tIpUt8Lc93",
        "outputId": "561ead8f-32d6-45d4-a909-9b2c055b9ec9"
      },
      "source": [
        "conf_matrix_s3 = []\r\n",
        "AUC_scores_s3 = []\r\n",
        "MCC_scores_s3 = []\r\n",
        "for i in range(len(parameters_s3)):\r\n",
        "    svc3lassifier = SVC(C= parameters_s3[i][0] , kernel= parameters_s3[i][1], random_state=42 )\r\n",
        "    svc3lassifier.fit(X_train_miss, y_train_miss)\r\n",
        "    pred = svc3lassifier.predict(X_test)\r\n",
        "    conf_matrix_s3.append(confusion_matrix(y_test, pred))\r\n",
        "    MCC_scores_s3.append(matthews_corrcoef(y_test, pred))\r\n",
        "    AUC_scores_s3.append(roc_auc_score(y_test, pred))\r\n",
        "      \r\n",
        "    print(i, ' done')"
      ],
      "execution_count": null,
      "outputs": [
        {
          "output_type": "stream",
          "text": [
            "0  done\n",
            "1  done\n",
            "2  done\n",
            "3  done\n"
          ],
          "name": "stdout"
        }
      ]
    },
    {
      "cell_type": "code",
      "metadata": {
        "colab": {
          "base_uri": "https://localhost:8080/"
        },
        "id": "XuDcFqA0MALu",
        "outputId": "a5e57127-7a3a-4bb7-e0cf-eb11b15d405d"
      },
      "source": [
        "print(parameters_s3[AUC_scores_s3.index(max(AUC_scores_s3))])\r\n",
        "print(max(AUC_scores_s3))\r\n",
        "print(conf_matrix_s3[AUC_scores_s3.index(max(AUC_scores_s3))])  "
      ],
      "execution_count": null,
      "outputs": [
        {
          "output_type": "stream",
          "text": [
            "(10, 'linear')\n",
            "0.9348356039273948\n",
            "[[19056  2328]\n",
            " [   59  2690]]\n"
          ],
          "name": "stdout"
        }
      ]
    },
    {
      "cell_type": "code",
      "metadata": {
        "id": "CzxoU-0NZB6U"
      },
      "source": [
        "svc3lassifier = SVC(C= 10 , kernel= 'linear', random_state=42 )\r\n",
        "svc3lassifier.fit(X_train_miss, y_train_miss)\r\n",
        "pred = svc3lassifier.predict(X_test)"
      ],
      "execution_count": 11,
      "outputs": []
    },
    {
      "cell_type": "code",
      "metadata": {
        "colab": {
          "base_uri": "https://localhost:8080/"
        },
        "id": "84Qd_GKLZTHN",
        "outputId": "fb4af617-6547-4fd2-8b60-58984f6a813a"
      },
      "source": [
        "print(\"the confusion matrix is :\", confusion_matrix(y_test,svc3lassifier.predict(X_test)))\r\n",
        "print(\"the MCC is :\", matthews_corrcoef(y_test, svc3lassifier.predict(X_test)))\r\n",
        "print(\"the AUC is :\", roc_auc_score(y_test, svc3lassifier.predict(X_test)))\r\n",
        "print(\"the accuracy is :\", accuracy_score(y_test, svc3lassifier.predict(X_test)))"
      ],
      "execution_count": 12,
      "outputs": [
        {
          "output_type": "stream",
          "text": [
            "the confusion matrix is : [[19056  2328]\n",
            " [   59  2690]]\n",
            "the MCC is : 0.6808233705062874\n",
            "the AUC is : 0.9348356039273948\n",
            "the accuracy is : 0.901089794057929\n"
          ],
          "name": "stdout"
        }
      ]
    },
    {
      "cell_type": "markdown",
      "metadata": {
        "id": "1vHo1pHJtWwK"
      },
      "source": [
        "This linear model with C=10 is a really good one and almost as good as the one with the gaussian kernel, C = 100 and gamma = 0.001"
      ]
    },
    {
      "cell_type": "markdown",
      "metadata": {
        "id": "AKHe9693MKht"
      },
      "source": [
        "# Our final model will be the SVM model with the gaussian kernel, the C = 100 and the gamma = 0.001:"
      ]
    },
    {
      "cell_type": "code",
      "metadata": {
        "id": "dM394yKQMIYU"
      },
      "source": [
        "svm_classifier = SVC(C=100  , kernel= 'rbf', gamma= 0.001 , random_state=42 ) \r\n",
        "svm_classifier.fit(X_train_miss, y_train_miss)  \r\n",
        "pred = svm_classifier.predict(X_test) "
      ],
      "execution_count": null,
      "outputs": []
    },
    {
      "cell_type": "markdown",
      "metadata": {
        "id": "drJQrq2SNQyx"
      },
      "source": [
        "Metrics on the test set :"
      ]
    },
    {
      "cell_type": "code",
      "metadata": {
        "colab": {
          "base_uri": "https://localhost:8080/"
        },
        "id": "axm0Q71MMIVA",
        "outputId": "b78120ec-3981-49d1-b92c-effa96c8f8b2"
      },
      "source": [
        "print(\"the confusion matrix is :\", confusion_matrix(y_test,svm_classifier.predict(X_test)))\r\n",
        "print(\"the MCC is :\", matthews_corrcoef(y_test, svm_classifier.predict(X_test)))\r\n",
        "print(\"the AUC is :\", roc_auc_score(y_test, svm_classifier.predict(X_test)))\r\n",
        "print(\"the accuracy is :\", accuracy_score(y_test, svm_classifier.predict(X_test)))"
      ],
      "execution_count": null,
      "outputs": [
        {
          "output_type": "stream",
          "text": [
            "the confusion matrix is : [[19221  2163]\n",
            " [   58  2691]]\n",
            "the MCC is : 0.6956824553135584\n",
            "the AUC is : 0.9388755129403245\n",
            "the accuracy is : 0.9079683421041727\n"
          ],
          "name": "stdout"
        }
      ]
    },
    {
      "cell_type": "code",
      "metadata": {
        "id": "rIDqR0jXJjZA",
        "colab": {
          "base_uri": "https://localhost:8080/",
          "height": 295
        },
        "outputId": "0073b42f-ba79-45de-8aa0-65e4512a61ef"
      },
      "source": [
        "cm=confusion_matrix(y_test,svm_classifier.predict(X_test))\r\n",
        "   \r\n",
        "ax= plt.subplot()\r\n",
        "sns.heatmap(cm, annot=True, ax = ax,fmt='g'); #annot=True to annotate cells\r\n",
        "\r\n",
        "# labels, title and ticks\r\n",
        "ax.set_xlabel('Predicted labels');ax.set_ylabel('True labels'); \r\n",
        "ax.set_title('Confusion Matrix'); \r\n",
        "ax.xaxis.set_ticklabels([0, 1]); ax.yaxis.set_ticklabels([0, 1]);"
      ],
      "execution_count": null,
      "outputs": [
        {
          "output_type": "display_data",
          "data": {
            "image/png": "[encoded data removed]",
            "text/plain": [
              "<Figure size 432x288 with 2 Axes>"
            ]
          },
          "metadata": {
            "tags": [],
            "needs_background": "light"
          }
        }
      ]
    },
    {
      "cell_type": "markdown",
      "metadata": {
        "id": "Npxq-ZpEND8b"
      },
      "source": [
        "Metrics on the trainning set :"
      ]
    },
    {
      "cell_type": "code",
      "metadata": {
        "colab": {
          "base_uri": "https://localhost:8080/"
        },
        "id": "GTtZxRW6MH-v",
        "outputId": "eaa8fd00-fda6-4d03-d8b7-65844e29ae13"
      },
      "source": [
        "print(\"the MCC is :\", matthews_corrcoef(y_train_miss, svm_classifier.predict(X_train_miss)))\r\n",
        "print(\"the AUC is :\", roc_auc_score(y_train_miss, svm_classifier.predict(X_train_miss)))\r\n",
        "print(\"the accuracy is :\", accuracy_score(y_train_miss, svm_classifier.predict(X_train_miss)))"
      ],
      "execution_count": null,
      "outputs": [
        {
          "output_type": "stream",
          "text": [
            "the MCC is : 0.9801248629604048\n",
            "the AUC is : 0.9900409276944065\n",
            "the accuracy is : 0.9900409276944065\n"
          ],
          "name": "stdout"
        }
      ]
    }
  ]
}