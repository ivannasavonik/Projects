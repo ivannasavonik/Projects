{
  "nbformat": 4,
  "nbformat_minor": 0,
  "metadata": {
    "colab": {
      "name": "Model_LDA.ipynb",
      "provenance": [],
      "collapsed_sections": [
        "XxxYhvLXGUt7"
      ]
    },
    "kernelspec": {
      "name": "python3",
      "display_name": "Python 3"
    }
  },
  "cells": [
    {
      "cell_type": "code",
      "metadata": {
        "id": "r_j9NlLH7Tot"
      },
      "source": [
        "from google.colab import drive\r\n",
        "import pandas as pd\r\n",
        "import numpy as np\r\n",
        "from imblearn.under_sampling import NearMiss \r\n",
        "from sklearn.model_selection import train_test_split\r\n",
        "import matplotlib.pyplot as plt\r\n",
        "from sklearn.preprocessing import StandardScaler\r\n",
        "from sklearn.metrics import confusion_matrix\r\n",
        "from sklearn.svm import SVC \r\n",
        "from sklearn.model_selection import GridSearchCV \r\n",
        "from sklearn.metrics import roc_auc_score\r\n",
        "from sklearn.metrics import matthews_corrcoef, accuracy_score \r\n",
        "import itertools\r\n",
        "from sklearn.discriminant_analysis import LinearDiscriminantAnalysis as LDA\r\n",
        "from sklearn.ensemble import RandomForestClassifier\r\n",
        "from sklearn.decomposition import PCA\r\n",
        "import seaborn as sns\r\n",
        "SEED=42"
      ],
      "execution_count": 28,
      "outputs": []
    },
    {
      "cell_type": "code",
      "metadata": {
        "colab": {
          "base_uri": "https://localhost:8080/"
        },
        "id": "OwLwNHkj70vU",
        "outputId": "a592d25b-5e18-4b9f-c889-48cae7c4ba0f"
      },
      "source": [
        "drive.mount('/content/drive')"
      ],
      "execution_count": 2,
      "outputs": [
        {
          "output_type": "stream",
          "text": [
            "Mounted at /content/drive\n"
          ],
          "name": "stdout"
        }
      ]
    },
    {
      "cell_type": "code",
      "metadata": {
        "id": "YDJDwdHN70s8"
      },
      "source": [
        "data = pd.read_csv('/content/drive/MyDrive/Data/cleaned_final.csv').reset_index(drop=True)"
      ],
      "execution_count": 3,
      "outputs": []
    },
    {
      "cell_type": "markdown",
      "metadata": {
        "id": "XxxYhvLXGUt7"
      },
      "source": [
        "# Data\r\n"
      ]
    },
    {
      "cell_type": "code",
      "metadata": {
        "id": "d_UFXFwx70oz"
      },
      "source": [
        "data2 = data.drop(columns=['Opiods Used'])\r\n",
        "names = data2.columns.tolist()"
      ],
      "execution_count": 4,
      "outputs": []
    },
    {
      "cell_type": "code",
      "metadata": {
        "colab": {
          "base_uri": "https://localhost:8080/"
        },
        "id": "j-TlSMVU70kg",
        "outputId": "fb05fd8c-364c-438b-9380-44b803866402"
      },
      "source": [
        "SEED = 42\r\n",
        "X_train, X_test, y_train, y_test=train_test_split(data.drop('Opiods Used', axis=1),\r\n",
        "    data['Opiods Used'],test_size=0.2, stratify=data['Opiods Used'],\r\n",
        "    shuffle=True,\r\n",
        "    random_state=SEED)\r\n",
        "\r\n",
        "#undersampling with NearMiss\r\n",
        "SEED = 42\r\n",
        "nr = NearMiss() \r\n",
        "  \r\n",
        "X_train_miss, y_train_miss = nr.fit_sample(X_train, y_train)"
      ],
      "execution_count": 5,
      "outputs": [
        {
          "output_type": "stream",
          "text": [
            "/usr/local/lib/python3.6/dist-packages/sklearn/utils/deprecation.py:87: FutureWarning: Function safe_indexing is deprecated; safe_indexing is deprecated in version 0.22 and will be removed in version 0.24.\n",
            "  warnings.warn(msg, category=FutureWarning)\n",
            "/usr/local/lib/python3.6/dist-packages/sklearn/utils/deprecation.py:87: FutureWarning: Function safe_indexing is deprecated; safe_indexing is deprecated in version 0.22 and will be removed in version 0.24.\n",
            "  warnings.warn(msg, category=FutureWarning)\n",
            "/usr/local/lib/python3.6/dist-packages/sklearn/utils/deprecation.py:87: FutureWarning: Function safe_indexing is deprecated; safe_indexing is deprecated in version 0.22 and will be removed in version 0.24.\n",
            "  warnings.warn(msg, category=FutureWarning)\n"
          ],
          "name": "stderr"
        }
      ]
    },
    {
      "cell_type": "code",
      "metadata": {
        "id": "CVHD_U2S70gd"
      },
      "source": [
        "X_train_miss = pd.DataFrame(data=X_train_miss, columns= names)"
      ],
      "execution_count": 6,
      "outputs": []
    },
    {
      "cell_type": "code",
      "metadata": {
        "id": "9UAwtq9n70c5"
      },
      "source": [
        "X_train_miss.drop(['Claimant Age', 'Post Injury Weekly Wage', 'Neurology Payment Flag',\r\n",
        "       'HCPCS M Codes', 'HCPCS Q Codes', 'HCPCS Y Codes', 'ICD Group 1',\r\n",
        "       'ICD Group 3', 'ICD Group 4', 'ICD Group 7', 'ICD Group 8',\r\n",
        "       'ICD Group 9', 'ICD Group 14', 'ICD Group 20', 'ICD Group 21',\r\n",
        "       'Benefits State_TX', 'Benefits State_PA', 'Benefits State_MD',\r\n",
        "       'Benefits State_IN', 'Benefits State_VA', 'Benefits State_AL',\r\n",
        "       'Benefits State_NV', 'Benefits State_RI', 'Benefits State_DC',\r\n",
        "       'Benefits State_KS', 'Benefits State_UT', 'Benefits State_NE',\r\n",
        "       'Benefits State_WV', 'Benefits State_ME', 'Benefits State_MT',\r\n",
        "       'Benefits State_LH', 'Benefits State_VT', 'Benefits State_WY',\r\n",
        "       'Benefits State_JA', 'Benefits State_ND', 'SIC Group_services',\r\n",
        "       'SIC Group_retail_trade', 'SIC Group_public_admi',\r\n",
        "       'Disability Status_TTD', 'Disability Status_PTD', 'Claimant Sex_M',\r\n",
        "       'Claimant Sex_F', 'Claimant Marital Status_U',\r\n",
        "       'Employment Status Flag_L', 'Employment Status Flag_A',\r\n",
        "       'Employment Status Flag_R', 'Employment Status Flag_B',\r\n",
        "       'Employment Status Flag_C', 'Employment Status Flag_D',\r\n",
        "       'NCCI BINatureOfLossDescription_Strain',\r\n",
        "       'NCCI BINatureOfLossDescription_Sprain',\r\n",
        "       'NCCI BINatureOfLossDescription_Skin',\r\n",
        "       'NCCI BINatureOfLossDescription_Foreign Body',\r\n",
        "       'Accident Type Group num_1', 'Accident Type Group num_4',\r\n",
        "       'Accident Type Group num_11', 'Accident Type Group num_12',\r\n",
        "       'Accident Type Group num_15', 'Accident Type Group num_14',\r\n",
        "       'Accident Type Group num_13', 'Accident Type Group num_16',\r\n",
        "       'Industry ID_14', 'Industry ID_13', 'Industry ID_16', 'Industry ID_12',\r\n",
        "       'Industry ID_18', 'Industry ID_9', 'Industry ID_0', 'Industry ID_1',\r\n",
        "       'Claimant Age squared', 'Weekly Wage squared', 'Weekly Wage cubic'], axis=1, inplace=True)"
      ],
      "execution_count": 7,
      "outputs": []
    },
    {
      "cell_type": "code",
      "metadata": {
        "id": "yriO3X7e70Sw"
      },
      "source": [
        "X_test.drop(['Claimant Age', 'Post Injury Weekly Wage', 'Neurology Payment Flag',\r\n",
        "       'HCPCS M Codes', 'HCPCS Q Codes', 'HCPCS Y Codes', 'ICD Group 1',\r\n",
        "       'ICD Group 3', 'ICD Group 4', 'ICD Group 7', 'ICD Group 8',\r\n",
        "       'ICD Group 9', 'ICD Group 14', 'ICD Group 20', 'ICD Group 21',\r\n",
        "       'Benefits State_TX', 'Benefits State_PA', 'Benefits State_MD',\r\n",
        "       'Benefits State_IN', 'Benefits State_VA', 'Benefits State_AL',\r\n",
        "       'Benefits State_NV', 'Benefits State_RI', 'Benefits State_DC',\r\n",
        "       'Benefits State_KS', 'Benefits State_UT', 'Benefits State_NE',\r\n",
        "       'Benefits State_WV', 'Benefits State_ME', 'Benefits State_MT',\r\n",
        "       'Benefits State_LH', 'Benefits State_VT', 'Benefits State_WY',\r\n",
        "       'Benefits State_JA', 'Benefits State_ND', 'SIC Group_services',\r\n",
        "       'SIC Group_retail_trade', 'SIC Group_public_admi',\r\n",
        "       'Disability Status_TTD', 'Disability Status_PTD', 'Claimant Sex_M',\r\n",
        "       'Claimant Sex_F', 'Claimant Marital Status_U',\r\n",
        "       'Employment Status Flag_L', 'Employment Status Flag_A',\r\n",
        "       'Employment Status Flag_R', 'Employment Status Flag_B',\r\n",
        "       'Employment Status Flag_C', 'Employment Status Flag_D',\r\n",
        "       'NCCI BINatureOfLossDescription_Strain',\r\n",
        "       'NCCI BINatureOfLossDescription_Sprain',\r\n",
        "       'NCCI BINatureOfLossDescription_Skin',\r\n",
        "       'NCCI BINatureOfLossDescription_Foreign Body',\r\n",
        "       'Accident Type Group num_1', 'Accident Type Group num_4',\r\n",
        "       'Accident Type Group num_11', 'Accident Type Group num_12',\r\n",
        "       'Accident Type Group num_15', 'Accident Type Group num_14',\r\n",
        "       'Accident Type Group num_13', 'Accident Type Group num_16',\r\n",
        "       'Industry ID_14', 'Industry ID_13', 'Industry ID_16', 'Industry ID_12',\r\n",
        "       'Industry ID_18', 'Industry ID_9', 'Industry ID_0', 'Industry ID_1',\r\n",
        "       'Claimant Age squared', 'Weekly Wage squared', 'Weekly Wage cubic'], axis=1, inplace=True)"
      ],
      "execution_count": 8,
      "outputs": []
    },
    {
      "cell_type": "markdown",
      "metadata": {
        "id": "Obws3M4N8kYp"
      },
      "source": [
        "# LDA\r\n"
      ]
    },
    {
      "cell_type": "markdown",
      "metadata": {
        "id": "ezLNB1YjAPoE"
      },
      "source": [
        "LDA as PCA is a linear transformation techniques that helps to reduces the dimensionality, but LDA is more a supervised technique.\r\n",
        "\r\n",
        "**And like PCA we need to scale our data first :**"
      ]
    },
    {
      "cell_type": "code",
      "metadata": {
        "id": "5b_zvAAD8nCc"
      },
      "source": [
        "scaler = StandardScaler()\r\n",
        "scaler.fit(X_train_miss)\r\n",
        "\r\n",
        "X_train_miss = scaler.transform(X_train_miss)\r\n",
        "X_test = scaler.transform(X_test)"
      ],
      "execution_count": 9,
      "outputs": []
    },
    {
      "cell_type": "markdown",
      "metadata": {
        "id": "H9db_RbFRovQ"
      },
      "source": [
        "# LDA model with defaults hyperparameters"
      ]
    },
    {
      "cell_type": "markdown",
      "metadata": {
        "id": "hkLFRi4DQqN0"
      },
      "source": [
        "## **Perform our LDA model with the default parameters**"
      ]
    },
    {
      "cell_type": "code",
      "metadata": {
        "id": "aQGwxEDdUTbi"
      },
      "source": [
        "lda = LDA(solver= 'svd',n_components=1) #max that we can since its <= (nb_classes - 1)\r\n",
        "X_train_lda = lda.fit_transform(X_train_miss, y_train_miss)\r\n",
        "X_test_lda = lda.transform(X_test)"
      ],
      "execution_count": 19,
      "outputs": []
    },
    {
      "cell_type": "markdown",
      "metadata": {
        "id": "xicVaxCMQzaJ"
      },
      "source": [
        "**Train our model and do prediction :**"
      ]
    },
    {
      "cell_type": "code",
      "metadata": {
        "id": "HLJX56p8VgV2"
      },
      "source": [
        "clf = RandomForestClassifier(random_state=SEED)\r\n",
        "clf.fit(X_train_lda, y_train_miss)\r\n",
        "\r\n",
        "# Predicting the Test set results\r\n",
        "y_pred = clf.predict(X_test_lda)"
      ],
      "execution_count": 20,
      "outputs": []
    },
    {
      "cell_type": "code",
      "metadata": {
        "colab": {
          "base_uri": "https://localhost:8080/"
        },
        "id": "NPZDYkMwVgyH",
        "outputId": "fbb50094-e0ab-4aeb-97e2-1a6c69ec49a9"
      },
      "source": [
        "print(\"the MCC is :\", matthews_corrcoef(y_test, y_pred))\r\n",
        "print(\"the AUC is :\", roc_auc_score(y_test, y_pred))\r\n",
        "print(\"the accuracy is :\", accuracy_score(y_test, y_pred))"
      ],
      "execution_count": 21,
      "outputs": [
        {
          "output_type": "stream",
          "text": [
            "the MCC is : 0.49757926263372554\n",
            "the AUC is : 0.856429631181056\n",
            "the accuracy is : 0.8037127584635146\n"
          ],
          "name": "stdout"
        }
      ]
    },
    {
      "cell_type": "code",
      "metadata": {
        "colab": {
          "base_uri": "https://localhost:8080/",
          "height": 295
        },
        "id": "Qg0XQFCDiQIO",
        "outputId": "6eb57344-365d-4957-c41c-3629e09d8df6"
      },
      "source": [
        "cm=confusion_matrix(y_test,clf.predict(X_test_lda))\r\n",
        "   \r\n",
        "ax= plt.subplot()\r\n",
        "sns.heatmap(cm, annot=True, ax = ax,fmt='g'); #annot=True to annotate cells\r\n",
        "\r\n",
        "# labels, title and ticks\r\n",
        "ax.set_xlabel('Predicted labels');ax.set_ylabel('True labels'); \r\n",
        "ax.set_title('Confusion Matrix'); \r\n",
        "ax.xaxis.set_ticklabels([0, 1]); ax.yaxis.set_ticklabels([0, 1]);"
      ],
      "execution_count": 29,
      "outputs": [
        {
          "output_type": "display_data",
          "data": {
            "image/png": "[encoded data removed]",
            "text/plain": [
              "<Figure size 432x288 with 2 Axes>"
            ]
          },
          "metadata": {
            "tags": [],
            "needs_background": "light"
          }
        }
      ]
    },
    {
      "cell_type": "markdown",
      "metadata": {
        "id": "UAKKv_9qe1Va"
      },
      "source": [
        "## Model with eigen solver"
      ]
    },
    {
      "cell_type": "code",
      "metadata": {
        "id": "sgGUpg_QhWE7"
      },
      "source": [
        "lda2 = LDA(solver= 'eigen',n_components=1) #max that we can since its <= (nb_classes - 1)\r\n",
        "X_train_lda2 = lda2.fit_transform(X_train_miss, y_train_miss)\r\n",
        "X_test_lda2 = lda2.transform(X_test)"
      ],
      "execution_count": 22,
      "outputs": []
    },
    {
      "cell_type": "code",
      "metadata": {
        "id": "Jlus-dpqhYdM"
      },
      "source": [
        "clf2 = RandomForestClassifier(random_state=SEED)\r\n",
        "clf2.fit(X_train_lda2, y_train_miss)\r\n",
        "\r\n",
        "# Predicting the Test set results\r\n",
        "y_pred2 = clf2.predict(X_test_lda2)"
      ],
      "execution_count": 23,
      "outputs": []
    },
    {
      "cell_type": "code",
      "metadata": {
        "colab": {
          "base_uri": "https://localhost:8080/"
        },
        "id": "kHhXWj40hhxz",
        "outputId": "bfe9efcb-afe2-492e-ad40-5d2eb76df02f"
      },
      "source": [
        "print(\"the MCC is :\", matthews_corrcoef(y_test, y_pred2))\r\n",
        "print(\"the AUC is :\", roc_auc_score(y_test, y_pred2))\r\n",
        "print(\"the accuracy is :\", accuracy_score(y_test, y_pred2))"
      ],
      "execution_count": 24,
      "outputs": [
        {
          "output_type": "stream",
          "text": [
            "the MCC is : 0.49757926263372554\n",
            "the AUC is : 0.856429631181056\n",
            "the accuracy is : 0.8037127584635146\n"
          ],
          "name": "stdout"
        }
      ]
    }
  ]
}