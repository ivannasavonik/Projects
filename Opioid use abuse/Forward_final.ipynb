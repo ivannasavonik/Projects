{
 "cells": [
  {
   "cell_type": "code",
   "execution_count": 16,
   "metadata": {},
   "outputs": [],
   "source": [
    "import pandas as pd\n",
    "import numpy as np\n",
    "from numpy.linalg import inv\n",
    "import matplotlib.pyplot as plt\n",
    "\n",
    "from sklearn.model_selection import GridSearchCV\n",
    "from sklearn.linear_model import LogisticRegression\n",
    "from sklearn.metrics import f1_score, make_scorer\n",
    "from sklearn.preprocessing import StandardScaler\n",
    "from sklearn.model_selection import train_test_split\n",
    "from imblearn.under_sampling import NearMiss \n",
    "from sklearn.metrics import confusion_matrix\n",
    "import seaborn as sns\n",
    "df = pd.read_csv('C:/Users/laura/OneDrive/Documents/MAG3/Semestre 1/Projet ML/cleaned_final.csv')"
   ]
  },
  {
   "cell_type": "markdown",
   "metadata": {},
   "source": [
    "Balancing the dataset"
   ]
  },
  {
   "cell_type": "code",
   "execution_count": 2,
   "metadata": {},
   "outputs": [],
   "source": [
    "SEED = 42\n",
    "X_train, X_test, y_train, y_test=train_test_split(df.drop('Opiods Used', axis=1),\n",
    "    df['Opiods Used'],test_size=0.2, stratify=df['Opiods Used'],\n",
    "    shuffle=True,\n",
    "    random_state=SEED)\n",
    "\n",
    "#undersampling with NearMiss\n",
    "SEED = 42\n",
    "nr = NearMiss() \n",
    "  \n",
    "X_train, y_train = nr.fit_sample(X_train, y_train)"
   ]
  },
  {
   "cell_type": "markdown",
   "metadata": {},
   "source": [
    "Scaling the features"
   ]
  },
  {
   "cell_type": "code",
   "execution_count": 4,
   "metadata": {},
   "outputs": [],
   "source": [
    "\n",
    "scaler = StandardScaler()\n",
    "scaler.fit(X_train)\n",
    "X_train_std = scaler.transform(X_train)\n",
    "X_test_std = scaler.transform(X_test)\n"
   ]
  },
  {
   "cell_type": "code",
   "execution_count": 5,
   "metadata": {},
   "outputs": [
    {
     "data": {
      "text/plain": [
       "(21990, 212)"
      ]
     },
     "execution_count": 5,
     "metadata": {},
     "output_type": "execute_result"
    }
   ],
   "source": [
    "X_train_std.shape"
   ]
  },
  {
   "cell_type": "code",
   "execution_count": 5,
   "metadata": {},
   "outputs": [],
   "source": [
    "#pip install mlxtend  "
   ]
  },
  {
   "cell_type": "code",
   "execution_count": 6,
   "metadata": {},
   "outputs": [
    {
     "name": "stderr",
     "output_type": "stream",
     "text": [
      "[Parallel(n_jobs=1)]: Using backend SequentialBackend with 1 concurrent workers.\n",
      "[Parallel(n_jobs=1)]: Done   1 out of   1 | elapsed:    8.2s remaining:    0.0s\n",
      "[Parallel(n_jobs=1)]: Done 212 out of 212 | elapsed: 11.8min finished\n",
      "\n",
      "[2021-01-15 11:35:21] Features: 1/10 -- score: 0.9268303774442929[Parallel(n_jobs=1)]: Using backend SequentialBackend with 1 concurrent workers.\n",
      "[Parallel(n_jobs=1)]: Done   1 out of   1 | elapsed:    4.2s remaining:    0.0s\n",
      "[Parallel(n_jobs=1)]: Done 211 out of 211 | elapsed: 15.9min finished\n",
      "\n",
      "[2021-01-15 11:51:14] Features: 2/10 -- score: 0.939199636198272[Parallel(n_jobs=1)]: Using backend SequentialBackend with 1 concurrent workers.\n",
      "[Parallel(n_jobs=1)]: Done   1 out of   1 | elapsed:    4.2s remaining:    0.0s\n",
      "[Parallel(n_jobs=1)]: Done 210 out of 210 | elapsed: 15.3min finished\n",
      "\n",
      "[2021-01-15 12:06:33] Features: 3/10 -- score: 0.9480673033196908[Parallel(n_jobs=1)]: Using backend SequentialBackend with 1 concurrent workers.\n",
      "[Parallel(n_jobs=1)]: Done   1 out of   1 | elapsed:    4.6s remaining:    0.0s\n",
      "[Parallel(n_jobs=1)]: Done 209 out of 209 | elapsed:  9.2min finished\n",
      "\n",
      "[2021-01-15 12:15:44] Features: 4/10 -- score: 0.9523419736243748[Parallel(n_jobs=1)]: Using backend SequentialBackend with 1 concurrent workers.\n",
      "[Parallel(n_jobs=1)]: Done   1 out of   1 | elapsed:    2.7s remaining:    0.0s\n",
      "[Parallel(n_jobs=1)]: Done 208 out of 208 | elapsed:  9.3min finished\n",
      "\n",
      "[2021-01-15 12:25:01] Features: 5/10 -- score: 0.9528422010004549[Parallel(n_jobs=1)]: Using backend SequentialBackend with 1 concurrent workers.\n",
      "[Parallel(n_jobs=1)]: Done   1 out of   1 | elapsed:    2.8s remaining:    0.0s\n",
      "[Parallel(n_jobs=1)]: Done 207 out of 207 | elapsed:  9.5min finished\n",
      "\n",
      "[2021-01-15 12:34:29] Features: 6/10 -- score: 0.9535243292405639[Parallel(n_jobs=1)]: Using backend SequentialBackend with 1 concurrent workers.\n",
      "[Parallel(n_jobs=1)]: Done   1 out of   1 | elapsed:    2.8s remaining:    0.0s\n",
      "[Parallel(n_jobs=1)]: Done 206 out of 206 | elapsed:  9.2min finished\n",
      "\n",
      "[2021-01-15 12:43:42] Features: 7/10 -- score: 0.9539336061846294[Parallel(n_jobs=1)]: Using backend SequentialBackend with 1 concurrent workers.\n",
      "[Parallel(n_jobs=1)]: Done   1 out of   1 | elapsed:    2.4s remaining:    0.0s\n",
      "[Parallel(n_jobs=1)]: Done 205 out of 205 | elapsed:  8.1min finished\n",
      "\n",
      "[2021-01-15 12:51:46] Features: 8/10 -- score: 0.9546157344247386[Parallel(n_jobs=1)]: Using backend SequentialBackend with 1 concurrent workers.\n",
      "[Parallel(n_jobs=1)]: Done   1 out of   1 | elapsed:    2.6s remaining:    0.0s\n",
      "[Parallel(n_jobs=1)]: Done 204 out of 204 | elapsed:  8.4min finished\n",
      "\n",
      "[2021-01-15 13:00:09] Features: 9/10 -- score: 0.954706684856753[Parallel(n_jobs=1)]: Using backend SequentialBackend with 1 concurrent workers.\n",
      "[Parallel(n_jobs=1)]: Done   1 out of   1 | elapsed:    2.6s remaining:    0.0s\n",
      "[Parallel(n_jobs=1)]: Done 203 out of 203 | elapsed:  8.5min finished\n",
      "\n",
      "[2021-01-15 13:08:42] Features: 10/10 -- score: 0.9552069122328332"
     ]
    }
   ],
   "source": [
    "from sklearn.ensemble import RandomForestClassifier\n",
    "from mlxtend.feature_selection import SequentialFeatureSelector as sfs\n",
    "clf = RandomForestClassifier(n_estimators=100, n_jobs=-1)\n",
    "# Build step forward feature selection\n",
    "sfs1 = sfs(clf,\n",
    "           k_features=10,\n",
    "           forward=True,\n",
    "           floating=False,\n",
    "           verbose=2,\n",
    "           scoring='accuracy',\n",
    "           cv=5)\n",
    "\n",
    "# Perform SFFS\n",
    "sfs1 = sfs1.fit(X_train_std, y_train)"
   ]
  },
  {
   "cell_type": "code",
   "execution_count": 7,
   "metadata": {},
   "outputs": [
    {
     "name": "stdout",
     "output_type": "stream",
     "text": [
      "[15, 26, 61, 67, 68, 69, 70, 96, 209, 211]\n"
     ]
    }
   ],
   "source": [
    "feat_cols = list(sfs1.k_feature_idx_)\n",
    "print(feat_cols)"
   ]
  },
  {
   "cell_type": "code",
   "execution_count": 8,
   "metadata": {},
   "outputs": [
    {
     "data": {
      "text/plain": [
       "{1: {'feature_idx': (209,),\n",
       "  'cv_scores': array([0.93974534, 0.93565257, 0.93860846, 0.93610732, 0.8840382 ]),\n",
       "  'avg_score': 0.9268303774442929,\n",
       "  'feature_names': ('209',)},\n",
       " 2: {'feature_idx': (69, 209),\n",
       "  'cv_scores': array([0.94906776, 0.94452024, 0.94724875, 0.93860846, 0.91655298]),\n",
       "  'avg_score': 0.939199636198272,\n",
       "  'feature_names': ('69', '209')},\n",
       " 3: {'feature_idx': (61, 69, 209),\n",
       "  'cv_scores': array([0.95657117, 0.95202365, 0.95429741, 0.95088677, 0.92655753]),\n",
       "  'avg_score': 0.9480673033196908,\n",
       "  'feature_names': ('61', '69', '209')},\n",
       " 4: {'feature_idx': (26, 61, 69, 209),\n",
       "  'cv_scores': array([0.95929968, 0.95543429, 0.9572533 , 0.9533879 , 0.9363347 ]),\n",
       "  'avg_score': 0.9523419736243748,\n",
       "  'feature_names': ('26', '61', '69', '209')},\n",
       " 5: {'feature_idx': (26, 61, 69, 209, 211),\n",
       "  'cv_scores': array([0.95884493, 0.95520691, 0.95861755, 0.95520691, 0.9363347 ]),\n",
       "  'avg_score': 0.9528422010004549,\n",
       "  'feature_names': ('26', '61', '69', '209', '211')},\n",
       " 6: {'feature_idx': (26, 61, 69, 70, 209, 211),\n",
       "  'cv_scores': array([0.95975443, 0.95566166, 0.95884493, 0.95588904, 0.93747158]),\n",
       "  'avg_score': 0.9535243292405639,\n",
       "  'feature_names': ('26', '61', '69', '70', '209', '211')},\n",
       " 7: {'feature_idx': (26, 61, 68, 69, 70, 209, 211),\n",
       "  'cv_scores': array([0.95929968, 0.95634379, 0.96043656, 0.95497954, 0.93860846]),\n",
       "  'avg_score': 0.9539336061846294,\n",
       "  'feature_names': ('26', '61', '68', '69', '70', '209', '211')},\n",
       " 8: {'feature_idx': (26, 61, 68, 69, 70, 96, 209, 211),\n",
       "  'cv_scores': array([0.96089131, 0.95657117, 0.95998181, 0.95611642, 0.93951796]),\n",
       "  'avg_score': 0.9546157344247386,\n",
       "  'feature_names': ('26', '61', '68', '69', '70', '96', '209', '211')},\n",
       " 9: {'feature_idx': (15, 26, 61, 68, 69, 70, 96, 209, 211),\n",
       "  'cv_scores': array([0.96066394, 0.95634379, 0.96020919, 0.95657117, 0.93974534]),\n",
       "  'avg_score': 0.954706684856753,\n",
       "  'feature_names': ('15', '26', '61', '68', '69', '70', '96', '209', '211')},\n",
       " 10: {'feature_idx': (15, 26, 61, 67, 68, 69, 70, 96, 209, 211),\n",
       "  'cv_scores': array([0.96157344, 0.95702592, 0.96134607, 0.95679854, 0.93929059]),\n",
       "  'avg_score': 0.9552069122328332,\n",
       "  'feature_names': ('15',\n",
       "   '26',\n",
       "   '61',\n",
       "   '67',\n",
       "   '68',\n",
       "   '69',\n",
       "   '70',\n",
       "   '96',\n",
       "   '209',\n",
       "   '211')}}"
      ]
     },
     "execution_count": 8,
     "metadata": {},
     "output_type": "execute_result"
    }
   ],
   "source": [
    "sfs1.subsets_"
   ]
  },
  {
   "cell_type": "code",
   "execution_count": 10,
   "metadata": {},
   "outputs": [
    {
     "data": {
      "text/plain": [
       "Index(['HCPCS B Codes', 'HCPCS M Codes', 'CPT Category - Anesthesia',\n",
       "       'NDC Class - Benzo', 'NDC Class - Misc (Zolpidem)',\n",
       "       'NDC Class - Muscle Relaxants', 'NDC Class - Stimulants',\n",
       "       'Benefits State_WA', 'Weekly Wage squared', 'Weekly Wage cubic'],\n",
       "      dtype='object')"
      ]
     },
     "execution_count": 10,
     "metadata": {},
     "output_type": "execute_result"
    }
   ],
   "source": [
    "pos=[15, 26, 61, 67, 68, 69, 70, 96, 209, 211]\n",
    "colname = X_train.columns[pos]\n",
    "colname\n"
   ]
  },
  {
   "cell_type": "code",
   "execution_count": 11,
   "metadata": {},
   "outputs": [
    {
     "data": {
      "text/plain": [
       "array([[-0.01508071, -0.30796731, -0.60226985, ..., -0.11211957,\n",
       "        -0.35987874, -0.08124047],\n",
       "       [-0.01508071, -0.30796731, -0.60226985, ..., -0.11211957,\n",
       "        -0.35987874, -0.08124047],\n",
       "       [-0.01508071, -0.30796731, -0.60226985, ..., -0.11211957,\n",
       "        -0.35987874, -0.08124047],\n",
       "       ...,\n",
       "       [-0.01508071, -0.30796731,  1.50344826, ..., -0.11211957,\n",
       "        -0.45300826, -0.08566101],\n",
       "       [-0.01508071, -0.30796731,  1.50344826, ..., -0.11211957,\n",
       "         1.95209008,  0.49448342],\n",
       "       [-0.01508071, -0.30796731, -0.60226985, ..., -0.11211957,\n",
       "         0.0482566 , -0.03046104]])"
      ]
     },
     "execution_count": 11,
     "metadata": {},
     "output_type": "execute_result"
    }
   ],
   "source": [
    "X_selected=X_train_std[:, feat_cols]\n",
    "X_selected"
   ]
  },
  {
   "cell_type": "code",
   "execution_count": 12,
   "metadata": {
    "scrolled": true
   },
   "outputs": [
    {
     "name": "stdout",
     "output_type": "stream",
     "text": [
      "Testing accuracy on selected features: 0.345\n",
      "Testing AUC on selected features: 0.605\n",
      "Testing MCC on selected features: 0.155\n"
     ]
    }
   ],
   "source": [
    "from sklearn.metrics import accuracy_score as acc\n",
    "from sklearn.metrics import matthews_corrcoef, roc_auc_score\n",
    "clf = RandomForestClassifier(n_estimators=100, random_state=SEED)\n",
    "clf.fit(X_selected, y_train)\n",
    "\n",
    "y_test_pred = clf.predict(X_test_std[:, feat_cols])\n",
    "print('Testing accuracy on selected features: %.3f' % acc(y_test, y_test_pred))\n",
    "print('Testing AUC on selected features: %.3f' % roc_auc_score(y_test, y_test_pred))\n",
    "print('Testing MCC on selected features: %.3f' % matthews_corrcoef(y_test, y_test_pred))"
   ]
  },
  {
   "cell_type": "code",
   "execution_count": 17,
   "metadata": {},
   "outputs": [
    {
     "data": {
      "image/png": "[encoded data removed]",
      "text/plain": [
       "<Figure size 432x288 with 2 Axes>"
      ]
     },
     "metadata": {
      "needs_background": "light"
     },
     "output_type": "display_data"
    }
   ],
   "source": [
    "cm=confusion_matrix(y_test,clf.predict(X_test_std[:, feat_cols]))\n",
    "   \n",
    "ax= plt.subplot()\n",
    "sns.heatmap(cm, annot=True, ax = ax,fmt='g'); #annot=True to annotate cells\n",
    "\n",
    "# labels, title and ticks\n",
    "ax.set_xlabel('Predicted labels');ax.set_ylabel('True labels'); \n",
    "ax.set_title('Confusion Matrix'); \n",
    "ax.xaxis.set_ticklabels([0, 1]); ax.yaxis.set_ticklabels([0, 1]);"
   ]
  },
  {
   "cell_type": "markdown",
   "metadata": {},
   "source": [
    "#### To compare with the model on all the trainning set :"
   ]
  },
  {
   "cell_type": "code",
   "execution_count": 19,
   "metadata": {},
   "outputs": [
    {
     "name": "stdout",
     "output_type": "stream",
     "text": [
      "Testing accuracy on selected features: 0.847\n",
      "Testing AUC on selected features: 0.904\n",
      "Testing MCC on selected features: 0.584\n"
     ]
    }
   ],
   "source": [
    "clf2 = RandomForestClassifier(n_estimators=100, random_state=SEED)\n",
    "clf2.fit(X_train_std, y_train)\n",
    "\n",
    "y_test_pred = clf2.predict(X_test_std)\n",
    "print('Testing accuracy on selected features: %.3f' % acc(y_test, y_test_pred))\n",
    "print('Testing AUC on selected features: %.3f' % roc_auc_score(y_test, y_test_pred))\n",
    "print('Testing MCC on selected features: %.3f' % matthews_corrcoef(y_test, y_test_pred))"
   ]
  },
  {
   "cell_type": "code",
   "execution_count": 21,
   "metadata": {},
   "outputs": [
    {
     "data": {
      "image/png": "[encoded data removed]",
      "text/plain": [
       "<Figure size 432x288 with 2 Axes>"
      ]
     },
     "metadata": {
      "needs_background": "light"
     },
     "output_type": "display_data"
    }
   ],
   "source": [
    "cm2=confusion_matrix(y_test,clf2.predict(X_test_std))\n",
    "   \n",
    "ax= plt.subplot()\n",
    "sns.heatmap(cm2, annot=True, ax = ax,fmt='g'); #annot=True to annotate cells\n",
    "\n",
    "# labels, title and ticks\n",
    "ax.set_xlabel('Predicted labels');ax.set_ylabel('True labels'); \n",
    "ax.set_title('Confusion Matrix'); \n",
    "ax.xaxis.set_ticklabels([0, 1]); ax.yaxis.set_ticklabels([0, 1]);"
   ]
  },
  {
   "cell_type": "markdown",
   "metadata": {},
   "source": [
    "   "
   ]
  },
  {
   "cell_type": "code",
   "execution_count": 22,
   "metadata": {
    "scrolled": false
   },
   "outputs": [
    {
     "data": {
      "image/png": "[encoded data removed]",
      "text/plain": [
       "<Figure size 432x288 with 1 Axes>"
      ]
     },
     "metadata": {
      "needs_background": "light"
     },
     "output_type": "display_data"
    }
   ],
   "source": [
    "from mlxtend.plotting import plot_sequential_feature_selection as plot_sfs\n",
    "fig1 = plot_sfs(sfs1.get_metric_dict(), kind='std_dev')\n",
    "\n",
    "plt.ylim([0.8, 1])\n",
    "plt.title('Sequential Forward Selection (w. StdDev)')\n",
    "plt.grid()\n",
    "plt.show()"
   ]
  }
 ],
 "metadata": {
  "kernelspec": {
   "display_name": "Python 3",
   "language": "python",
   "name": "python3"
  },
  "language_info": {
   "codemirror_mode": {
    "name": "ipython",
    "version": 3
   },
   "file_extension": ".py",
   "mimetype": "text/x-python",
   "name": "python",
   "nbconvert_exporter": "python",
   "pygments_lexer": "ipython3",
   "version": "3.7.9"
  }
 },
 "nbformat": 4,
 "nbformat_minor": 2
}
