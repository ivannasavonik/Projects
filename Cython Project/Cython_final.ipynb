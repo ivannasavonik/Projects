{
  "cells": [
    {
      "cell_type": "code",
      "execution_count": null,
      "metadata": {
        "id": "hdobPGLHgmx_"
      },
      "outputs": [],
      "source": [
        "from sklearn.datasets import make_classification\n",
        "from sklearn.model_selection import train_test_split\n",
        "import numpy as np\n",
        "import time\n",
        "import pandas as pd\n",
        "import matplotlib.pyplot as plt"
      ]
    },
    {
      "cell_type": "code",
      "execution_count": null,
      "metadata": {
        "id": "J5OJthGQgpxJ"
      },
      "outputs": [],
      "source": [
        "%load_ext Cython"
      ]
    },
    {
      "cell_type": "code",
      "execution_count": null,
      "metadata": {
        "colab": {
          "base_uri": "https://localhost:8080/"
        },
        "id": "GrGD6G51ULKC",
        "outputId": "371fd4fe-ce91-4ea0-e51e-89c049cf5043"
      },
      "outputs": [
        {
          "data": {
            "text/plain": [
              "2"
            ]
          },
          "execution_count": 7,
          "metadata": {},
          "output_type": "execute_result"
        }
      ],
      "source": [
        "import multiprocessing\n",
        "\n",
        "cores = multiprocessing.cpu_count() # Count the number of cores in a computer\n",
        "cores"
      ]
    },
    {
      "cell_type": "code",
      "execution_count": null,
      "metadata": {
        "colab": {
          "base_uri": "https://localhost:8080/"
        },
        "id": "7mUwAIB5gtwJ",
        "outputId": "b5b4842e-9ecf-4656-e465-35a4614fc02c"
      },
      "outputs": [
        {
          "name": "stderr",
          "output_type": "stream",
          "text": [
            "warning: /root/.cache/ipython/cython/_cython_magic_a130dc2940e486c876b4fb35b0bd0c48.pyx:37:38: Index should be typed for more efficient access\n"
          ]
        }
      ],
      "source": [
        "%%cython\n",
        "import cython\n",
        "from libc.math cimport sqrt\n",
        "import numpy as np\n",
        "cimport numpy as np\n",
        "from sklearn.datasets import make_classification\n",
        "from sklearn.model_selection import train_test_split\n",
        "import numpy as np\n",
        "from cython.parallel import prange\n",
        "\n",
        "from cython import boundscheck, wraparound\n",
        "\n",
        "@boundscheck(False)\n",
        "@wraparound(False)\n",
        "\n",
        "cpdef KNN_cython_prange(double[:, ::1] X_train, double[:, ::1] X_test, long[:] y_train, int k):\n",
        "    cdef int X_train_rows = X_train.shape[0]\n",
        "    cdef int X_test_rows = X_test.shape[0]\n",
        "    cdef int X_dim = X_train.shape[1]\n",
        "    cdef double[:, ::1] list_dist = np.zeros([X_test_rows, X_train_rows])\n",
        "    cdef double[:, ::1] idx = np.zeros([X_test_rows, k])\n",
        "    cdef double[:] predictions = np.zeros(X_test_rows)\n",
        "    \n",
        "    cdef int i, j, l, e\n",
        "    cdef double dist\n",
        "\n",
        "    for i in prange(X_test_rows, nogil = True):\n",
        "        for j in range(X_train_rows):\n",
        "            dist = 0.0\n",
        "            for l in range(X_dim):\n",
        "                dist = dist + (X_train[j,l] - X_test[i,l])**2\n",
        "            list_dist[i,j] = sqrt(dist)\n",
        "    e = 0\n",
        "    \n",
        "    for elements in list_dist:\n",
        "        temp = [np.argsort(elements)[:k]]\n",
        "        for j in range(k):\n",
        "            idx[e,j] = y_train[temp[0][j]]  \n",
        "        if np.sum(idx[e])>k//2:\n",
        "            predictions[e] = 1\n",
        "        else:\n",
        "            predictions[e] = 0\n",
        "        e +=1 \n",
        "        \n",
        "    return np.asarray(predictions)"
      ]
    },
    {
      "cell_type": "code",
      "execution_count": null,
      "metadata": {
        "id": "wYiJgkjugxt-"
      },
      "outputs": [],
      "source": [
        "def KNN_python(X_train, X_test, y_train,k):\n",
        "    list_dist = []\n",
        "    for x in X_test:\n",
        "        dist = []\n",
        "        for i in range(len(X_train)):\n",
        "            dist.append(np.sqrt(np.sum((x-X_train[i,:])**2)))\n",
        "        list_dist.append(dist)\n",
        "    \n",
        "    idx = []\n",
        "    for elements in list_dist:\n",
        "        idx.append([np.argsort(elements)[:k]])\n",
        "        \n",
        "    labels =  []\n",
        "    for elements in idx:\n",
        "        labels.append([y_train[elements[i]] for i in range(len(elements))])\n",
        "    \n",
        "    \n",
        "    predictions = []\n",
        "    for elements in labels:\n",
        "        if np.sum(elements) > k//2:\n",
        "            predictions.append(1)\n",
        "        else:\n",
        "            predictions.append(0)\n",
        "    return predictions"
      ]
    },
    {
      "cell_type": "code",
      "execution_count": null,
      "metadata": {
        "colab": {
          "base_uri": "https://localhost:8080/"
        },
        "id": "XP_pj0Mzg1Ol",
        "outputId": "2ee2dcc4-9826-4807-834b-c479c528de96"
      },
      "outputs": [
        {
          "name": "stderr",
          "output_type": "stream",
          "text": [
            "100%|██████████| 8/8 [23:04<00:00, 173.11s/it]\n"
          ]
        }
      ],
      "source": [
        "from tqdm import tqdm\n",
        "\n",
        "time_list_cython = []\n",
        "time_list_python = []\n",
        "count_list = []\n",
        "\n",
        "# Tailles des jeux de données à tester\n",
        "n_samples=[50,500,1000,3000,6000,10000,15000,20000]\n",
        "\n",
        "count_list = []\n",
        "time_list_cython=[]\n",
        "time_list_python = []\n",
        "for n in tqdm(n_samples):\n",
        "    # Création du dataset \n",
        "    X, y = make_classification(\n",
        "      n_samples=n,\n",
        "      n_features=30,\n",
        "      n_informative=7,\n",
        "      n_redundant=0,\n",
        "      n_classes=2,\n",
        "      random_state=42,\n",
        "    )\n",
        "    \n",
        "    # Division du jeu de données en X_test et X_train\n",
        "    X_train, X_test, y_train, y_test = train_test_split(X, y, random_state=42)\n",
        "    \n",
        "    # KNN en Python\n",
        "    start = time.time()\n",
        "    KNN_cython_prange(X_train, X_test, y_train,k = 5)\n",
        "    end = time.time()\n",
        "    # Stockage du temps d'exécution\n",
        "    time_list_cython.append(end-start)\n",
        "    \n",
        "    # KNN en Cython\n",
        "    start = time.time()\n",
        "    KNN_python(X_train, X_test, y_train,k=5)\n",
        "    end = time.time()\n",
        "    # Stockage du temps d'exécution\n",
        "    time_list_python.append(end-start)\n",
        "    \n",
        "    count_list.append(n)   "
      ]
    },
    {
      "cell_type": "code",
      "execution_count": null,
      "metadata": {
        "colab": {
          "base_uri": "https://localhost:8080/",
          "height": 295
        },
        "id": "A3i1JWDqg3Oq",
        "outputId": "32fdc953-4140-4a77-b421-f0f27b1eac7c"
      },
      "outputs": [
        {
          "data": {
            "image/png": "[encoded data removed]",
            "text/plain": [
              "<Figure size 432x288 with 1 Axes>"
            ]
          },
          "metadata": {
            "needs_background": "light"
          },
          "output_type": "display_data"
        }
      ],
      "source": [
        "# Plot de la taille du jeu de données en fonction tu temps d'exécution\n",
        "plt.plot(count_list,time_list_cython, '-o', label='C-KNN')\n",
        "plt.plot(count_list,time_list_python, '-o', c='r', label='P-KNN')\n",
        "plt.xlabel(\"Taille du jeu de données\")\n",
        "plt.ylabel(\"Temps d'exécution (s)\")\n",
        "plt.legend()\n",
        "plt.title('Nombres de features = '+str(10)+', K = '+str(5)+ ', speedup moyen = '+'%0.2f' % (np.mean(time_list_python)/np.mean(time_list_cython)))\n",
        "plt.show()"
      ]
    },
    {
      "cell_type": "code",
      "execution_count": null,
      "metadata": {
        "colab": {
          "base_uri": "https://localhost:8080/",
          "height": 300
        },
        "id": "4O4CJ_dlg4lP",
        "outputId": "9fa7defb-048d-4d41-e7a3-69cfb0e01e2d"
      },
      "outputs": [
        {
          "data": {
            "text/html": [
              "\n",
              "  <div id=\"df-3824366c-6582-4e50-a0ff-24f90ab10a3c\">\n",
              "    <div class=\"colab-df-container\">\n",
              "      <div>\n",
              "<style scoped>\n",
              "    .dataframe tbody tr th:only-of-type {\n",
              "        vertical-align: middle;\n",
              "    }\n",
              "\n",
              "    .dataframe tbody tr th {\n",
              "        vertical-align: top;\n",
              "    }\n",
              "\n",
              "    .dataframe thead th {\n",
              "        text-align: right;\n",
              "    }\n",
              "</style>\n",
              "<table border=\"1\" class=\"dataframe\">\n",
              "  <thead>\n",
              "    <tr style=\"text-align: right;\">\n",
              "      <th></th>\n",
              "      <th>N</th>\n",
              "      <th>time_python</th>\n",
              "      <th>time_cython</th>\n",
              "      <th>speedup</th>\n",
              "    </tr>\n",
              "  </thead>\n",
              "  <tbody>\n",
              "    <tr>\n",
              "      <th>0</th>\n",
              "      <td>50</td>\n",
              "      <td>0.004671</td>\n",
              "      <td>0.000499</td>\n",
              "      <td>9.356734</td>\n",
              "    </tr>\n",
              "    <tr>\n",
              "      <th>1</th>\n",
              "      <td>500</td>\n",
              "      <td>0.457839</td>\n",
              "      <td>0.006475</td>\n",
              "      <td>70.706396</td>\n",
              "    </tr>\n",
              "    <tr>\n",
              "      <th>2</th>\n",
              "      <td>1000</td>\n",
              "      <td>1.694978</td>\n",
              "      <td>0.021982</td>\n",
              "      <td>77.106018</td>\n",
              "    </tr>\n",
              "    <tr>\n",
              "      <th>3</th>\n",
              "      <td>3000</td>\n",
              "      <td>15.955729</td>\n",
              "      <td>0.199463</td>\n",
              "      <td>79.993278</td>\n",
              "    </tr>\n",
              "    <tr>\n",
              "      <th>4</th>\n",
              "      <td>6000</td>\n",
              "      <td>62.882777</td>\n",
              "      <td>0.785677</td>\n",
              "      <td>80.036453</td>\n",
              "    </tr>\n",
              "    <tr>\n",
              "      <th>5</th>\n",
              "      <td>10000</td>\n",
              "      <td>176.939175</td>\n",
              "      <td>2.188187</td>\n",
              "      <td>80.861098</td>\n",
              "    </tr>\n",
              "    <tr>\n",
              "      <th>6</th>\n",
              "      <td>15000</td>\n",
              "      <td>398.798407</td>\n",
              "      <td>5.207020</td>\n",
              "      <td>76.588613</td>\n",
              "    </tr>\n",
              "    <tr>\n",
              "      <th>7</th>\n",
              "      <td>20000</td>\n",
              "      <td>703.252762</td>\n",
              "      <td>9.501407</td>\n",
              "      <td>74.015643</td>\n",
              "    </tr>\n",
              "  </tbody>\n",
              "</table>\n",
              "</div>\n",
              "      <button class=\"colab-df-convert\" onclick=\"convertToInteractive('df-3824366c-6582-4e50-a0ff-24f90ab10a3c')\"\n",
              "              title=\"Convert this dataframe to an interactive table.\"\n",
              "              style=\"display:none;\">\n",
              "        \n",
              "  <svg xmlns=\"http://www.w3.org/2000/svg\" height=\"24px\"viewBox=\"0 0 24 24\"\n",
              "       width=\"24px\">\n",
              "    <path d=\"M0 0h24v24H0V0z\" fill=\"none\"/>\n",
              "    <path d=\"M18.56 5.44l.94 2.06.94-2.06 2.06-.94-2.06-.94-.94-2.06-.94 2.06-2.06.94zm-11 1L8.5 8.5l.94-2.06 2.06-.94-2.06-.94L8.5 2.5l-.94 2.06-2.06.94zm10 10l.94 2.06.94-2.06 2.06-.94-2.06-.94-.94-2.06-.94 2.06-2.06.94z\"/><path d=\"M17.41 7.96l-1.37-1.37c-.4-.4-.92-.59-1.43-.59-.52 0-1.04.2-1.43.59L10.3 9.45l-7.72 7.72c-.78.78-.78 2.05 0 2.83L4 21.41c.39.39.9.59 1.41.59.51 0 1.02-.2 1.41-.59l7.78-7.78 2.81-2.81c.8-.78.8-2.07 0-2.86zM5.41 20L4 18.59l7.72-7.72 1.47 1.35L5.41 20z\"/>\n",
              "  </svg>\n",
              "      </button>\n",
              "      \n",
              "  <style>\n",
              "    .colab-df-container {\n",
              "      display:flex;\n",
              "      flex-wrap:wrap;\n",
              "      gap: 12px;\n",
              "    }\n",
              "\n",
              "    .colab-df-convert {\n",
              "      background-color: #E8F0FE;\n",
              "      border: none;\n",
              "      border-radius: 50%;\n",
              "      cursor: pointer;\n",
              "      display: none;\n",
              "      fill: #1967D2;\n",
              "      height: 32px;\n",
              "      padding: 0 0 0 0;\n",
              "      width: 32px;\n",
              "    }\n",
              "\n",
              "    .colab-df-convert:hover {\n",
              "      background-color: #E2EBFA;\n",
              "      box-shadow: 0px 1px 2px rgba(60, 64, 67, 0.3), 0px 1px 3px 1px rgba(60, 64, 67, 0.15);\n",
              "      fill: #174EA6;\n",
              "    }\n",
              "\n",
              "    [theme=dark] .colab-df-convert {\n",
              "      background-color: #3B4455;\n",
              "      fill: #D2E3FC;\n",
              "    }\n",
              "\n",
              "    [theme=dark] .colab-df-convert:hover {\n",
              "      background-color: #434B5C;\n",
              "      box-shadow: 0px 1px 3px 1px rgba(0, 0, 0, 0.15);\n",
              "      filter: drop-shadow(0px 1px 2px rgba(0, 0, 0, 0.3));\n",
              "      fill: #FFFFFF;\n",
              "    }\n",
              "  </style>\n",
              "\n",
              "      <script>\n",
              "        const buttonEl =\n",
              "          document.querySelector('#df-3824366c-6582-4e50-a0ff-24f90ab10a3c button.colab-df-convert');\n",
              "        buttonEl.style.display =\n",
              "          google.colab.kernel.accessAllowed ? 'block' : 'none';\n",
              "\n",
              "        async function convertToInteractive(key) {\n",
              "          const element = document.querySelector('#df-3824366c-6582-4e50-a0ff-24f90ab10a3c');\n",
              "          const dataTable =\n",
              "            await google.colab.kernel.invokeFunction('convertToInteractive',\n",
              "                                                     [key], {});\n",
              "          if (!dataTable) return;\n",
              "\n",
              "          const docLinkHtml = 'Like what you see? Visit the ' +\n",
              "            '<a target=\"_blank\" href=https://colab.research.google.com/notebooks/data_table.ipynb>data table notebook</a>'\n",
              "            + ' to learn more about interactive tables.';\n",
              "          element.innerHTML = '';\n",
              "          dataTable['output_type'] = 'display_data';\n",
              "          await google.colab.output.renderOutput(dataTable, element);\n",
              "          const docLink = document.createElement('div');\n",
              "          docLink.innerHTML = docLinkHtml;\n",
              "          element.appendChild(docLink);\n",
              "        }\n",
              "      </script>\n",
              "    </div>\n",
              "  </div>\n",
              "  "
            ],
            "text/plain": [
              "       N  time_python  time_cython    speedup\n",
              "0     50     0.004671     0.000499   9.356734\n",
              "1    500     0.457839     0.006475  70.706396\n",
              "2   1000     1.694978     0.021982  77.106018\n",
              "3   3000    15.955729     0.199463  79.993278\n",
              "4   6000    62.882777     0.785677  80.036453\n",
              "5  10000   176.939175     2.188187  80.861098\n",
              "6  15000   398.798407     5.207020  76.588613\n",
              "7  20000   703.252762     9.501407  74.015643"
            ]
          },
          "execution_count": 14,
          "metadata": {},
          "output_type": "execute_result"
        }
      ],
      "source": [
        "df = pd.DataFrame({'N' :count_list, 'time_python' : time_list_python,'time_cython': time_list_cython})\n",
        "df['speedup'] = df['time_python'] / df['time_cython']\n",
        "df"
      ]
    },
    {
      "cell_type": "code",
      "execution_count": null,
      "metadata": {
        "id": "1IY3R9uSgoiT"
      },
      "outputs": [],
      "source": []
    },
    {
      "cell_type": "code",
      "execution_count": null,
      "metadata": {
        "id": "X1Ud37pueHq5"
      },
      "outputs": [],
      "source": [
        "%%cython\n",
        "import cython\n",
        "from libc.math cimport sqrt\n",
        "import numpy as np\n",
        "cimport numpy as np\n",
        "from sklearn.datasets import make_classification\n",
        "from sklearn.model_selection import train_test_split\n",
        "import numpy as np\n",
        "\n",
        "\n",
        "cpdef KNN_cython(double[:, ::1] X_train, double[:, ::1] X_test, long[:] y_train, int k):\n",
        "    cdef int X_train_rows = X_train.shape[0]\n",
        "    cdef int X_test_rows = X_test.shape[0]\n",
        "    cdef int X_dim = X_train.shape[1]\n",
        "    cdef double[:, ::1] list_dist = np.zeros([X_test_rows, X_train_rows])\n",
        "    cdef double[:, ::1] idx = np.zeros([X_test_rows, k])\n",
        "    cdef double[:] predictions = np.zeros(X_test_rows)\n",
        "    \n",
        "    cdef int i, j, l, e\n",
        "    cdef double dist\n",
        "\n",
        "    for i in range(X_test_rows):\n",
        "        for j in range(X_train_rows):\n",
        "            dist = 0.0\n",
        "            for l in range(X_dim):\n",
        "                dist += (X_train[j,l] - X_test[i,l])**2\n",
        "            list_dist[i, j] = sqrt(dist)\n",
        "    e = 0\n",
        "    \n",
        "    for elements in list_dist:\n",
        "        temp = [np.argsort(elements)[:k]]\n",
        "        for j in range(k):\n",
        "            idx[e,j] = y_train[temp[0][j]]  \n",
        "        if np.sum(idx[e])>k//2:\n",
        "            predictions[e] = 1\n",
        "        else:\n",
        "            predictions[e] = 0\n",
        "        e +=1 \n",
        "        \n",
        "    return np.asarray(predictions)\n",
        "\n",
        "\n"
      ]
    },
    {
      "cell_type": "code",
      "execution_count": null,
      "metadata": {
        "colab": {
          "base_uri": "https://localhost:8080/"
        },
        "id": "xcgxSirxhPKX",
        "outputId": "7121f4dc-55d4-4ed8-8bf7-ceea1b4b7e3e"
      },
      "outputs": [
        {
          "name": "stderr",
          "output_type": "stream",
          "text": [
            "100%|██████████| 8/8 [00:42<00:00,  5.29s/it]\n"
          ]
        }
      ],
      "source": [
        "from tqdm import tqdm\n",
        "\n",
        "time_list_cython = []\n",
        "time_list_cython_par = []\n",
        "count_list = []\n",
        "\n",
        "# Tailles des jeux de données à tester\n",
        "n_samples=[50,500,1000,3000,6000,10000,15000,20000]\n",
        "\n",
        "count_list = []\n",
        "time_list_cython=[]\n",
        "time_list_python = []\n",
        "for n in tqdm(n_samples):\n",
        "    # Création du dataset \n",
        "    X, y = make_classification(\n",
        "      n_samples=n,\n",
        "      n_features=30,\n",
        "      n_informative=7,\n",
        "      n_redundant=0,\n",
        "      n_classes=2,\n",
        "      random_state=42,\n",
        "    )\n",
        "    \n",
        "    # Division du jeu de données en X_test et X_train\n",
        "    X_train, X_test, y_train, y_test = train_test_split(X, y, random_state=42)\n",
        "    \n",
        "    # KNN en Cython\n",
        "    start = time.time()\n",
        "    KNN_cython(X_train, X_test, y_train,k = 5)\n",
        "    end = time.time()\n",
        "    # Stockage du temps d'exécution\n",
        "    time_list_cython.append(end-start)\n",
        "    \n",
        "    # KNN en Python\n",
        "    start = time.time()\n",
        "    KNN_cython_prange(X_train, X_test, y_train,k=5)\n",
        "    end = time.time()\n",
        "    # Stockage du temps d'exécution\n",
        "    time_list_cython_par.append(end-start)\n",
        "    \n",
        "    count_list.append(n)   "
      ]
    },
    {
      "cell_type": "code",
      "execution_count": null,
      "metadata": {
        "colab": {
          "base_uri": "https://localhost:8080/",
          "height": 295
        },
        "id": "Ak9msi2LhVIq",
        "outputId": "c69a7f54-613f-435c-8631-ff91a7562fca"
      },
      "outputs": [
        {
          "data": {
            "image/png": "[encoded data removed]",
            "text/plain": [
              "<Figure size 432x288 with 1 Axes>"
            ]
          },
          "metadata": {
            "needs_background": "light"
          },
          "output_type": "display_data"
        }
      ],
      "source": [
        "# Plot de la taille du jeu de données en fonction tu temps d'exécution\n",
        "plt.plot(count_list,time_list_cython_par, '-o', label='C-KNN')\n",
        "plt.plot(count_list,time_list_cython, '-o', c='r', label='Cyt-KNN')\n",
        "plt.xlabel(\"Taille du jeu de données\")\n",
        "plt.ylabel(\"Temps d'exécution (s)\")\n",
        "plt.legend()\n",
        "plt.title('Nombres de features = '+str(10)+', K = '+str(5)+ ', speedup moyen = '+'%0.2f' % (np.mean(time_list_cython)/np.mean(time_list_cython_par)))\n",
        "plt.show()"
      ]
    },
    {
      "cell_type": "code",
      "execution_count": null,
      "metadata": {
        "colab": {
          "base_uri": "https://localhost:8080/",
          "height": 300
        },
        "id": "wINp5GdGhcl0",
        "outputId": "082e2309-d745-4930-f566-09205ff8cee4"
      },
      "outputs": [
        {
          "data": {
            "text/html": [
              "\n",
              "  <div id=\"df-3215f22e-eea1-466b-9aa6-0b9d30d5df71\">\n",
              "    <div class=\"colab-df-container\">\n",
              "      <div>\n",
              "<style scoped>\n",
              "    .dataframe tbody tr th:only-of-type {\n",
              "        vertical-align: middle;\n",
              "    }\n",
              "\n",
              "    .dataframe tbody tr th {\n",
              "        vertical-align: top;\n",
              "    }\n",
              "\n",
              "    .dataframe thead th {\n",
              "        text-align: right;\n",
              "    }\n",
              "</style>\n",
              "<table border=\"1\" class=\"dataframe\">\n",
              "  <thead>\n",
              "    <tr style=\"text-align: right;\">\n",
              "      <th></th>\n",
              "      <th>N</th>\n",
              "      <th>time_cython</th>\n",
              "      <th>time_cython_par</th>\n",
              "      <th>speedup</th>\n",
              "    </tr>\n",
              "  </thead>\n",
              "  <tbody>\n",
              "    <tr>\n",
              "      <th>0</th>\n",
              "      <td>50</td>\n",
              "      <td>0.001086</td>\n",
              "      <td>0.000342</td>\n",
              "      <td>3.174216</td>\n",
              "    </tr>\n",
              "    <tr>\n",
              "      <th>1</th>\n",
              "      <td>500</td>\n",
              "      <td>0.008462</td>\n",
              "      <td>0.006521</td>\n",
              "      <td>1.297554</td>\n",
              "    </tr>\n",
              "    <tr>\n",
              "      <th>2</th>\n",
              "      <td>1000</td>\n",
              "      <td>0.030122</td>\n",
              "      <td>0.022974</td>\n",
              "      <td>1.311115</td>\n",
              "    </tr>\n",
              "    <tr>\n",
              "      <th>3</th>\n",
              "      <td>3000</td>\n",
              "      <td>0.267939</td>\n",
              "      <td>0.207407</td>\n",
              "      <td>1.291854</td>\n",
              "    </tr>\n",
              "    <tr>\n",
              "      <th>4</th>\n",
              "      <td>6000</td>\n",
              "      <td>1.091887</td>\n",
              "      <td>0.805967</td>\n",
              "      <td>1.354754</td>\n",
              "    </tr>\n",
              "    <tr>\n",
              "      <th>5</th>\n",
              "      <td>10000</td>\n",
              "      <td>3.052394</td>\n",
              "      <td>2.267352</td>\n",
              "      <td>1.346238</td>\n",
              "    </tr>\n",
              "    <tr>\n",
              "      <th>6</th>\n",
              "      <td>15000</td>\n",
              "      <td>7.008870</td>\n",
              "      <td>5.248217</td>\n",
              "      <td>1.335476</td>\n",
              "    </tr>\n",
              "    <tr>\n",
              "      <th>7</th>\n",
              "      <td>20000</td>\n",
              "      <td>12.687019</td>\n",
              "      <td>9.465126</td>\n",
              "      <td>1.340396</td>\n",
              "    </tr>\n",
              "  </tbody>\n",
              "</table>\n",
              "</div>\n",
              "      <button class=\"colab-df-convert\" onclick=\"convertToInteractive('df-3215f22e-eea1-466b-9aa6-0b9d30d5df71')\"\n",
              "              title=\"Convert this dataframe to an interactive table.\"\n",
              "              style=\"display:none;\">\n",
              "        \n",
              "  <svg xmlns=\"http://www.w3.org/2000/svg\" height=\"24px\"viewBox=\"0 0 24 24\"\n",
              "       width=\"24px\">\n",
              "    <path d=\"M0 0h24v24H0V0z\" fill=\"none\"/>\n",
              "    <path d=\"M18.56 5.44l.94 2.06.94-2.06 2.06-.94-2.06-.94-.94-2.06-.94 2.06-2.06.94zm-11 1L8.5 8.5l.94-2.06 2.06-.94-2.06-.94L8.5 2.5l-.94 2.06-2.06.94zm10 10l.94 2.06.94-2.06 2.06-.94-2.06-.94-.94-2.06-.94 2.06-2.06.94z\"/><path d=\"M17.41 7.96l-1.37-1.37c-.4-.4-.92-.59-1.43-.59-.52 0-1.04.2-1.43.59L10.3 9.45l-7.72 7.72c-.78.78-.78 2.05 0 2.83L4 21.41c.39.39.9.59 1.41.59.51 0 1.02-.2 1.41-.59l7.78-7.78 2.81-2.81c.8-.78.8-2.07 0-2.86zM5.41 20L4 18.59l7.72-7.72 1.47 1.35L5.41 20z\"/>\n",
              "  </svg>\n",
              "      </button>\n",
              "      \n",
              "  <style>\n",
              "    .colab-df-container {\n",
              "      display:flex;\n",
              "      flex-wrap:wrap;\n",
              "      gap: 12px;\n",
              "    }\n",
              "\n",
              "    .colab-df-convert {\n",
              "      background-color: #E8F0FE;\n",
              "      border: none;\n",
              "      border-radius: 50%;\n",
              "      cursor: pointer;\n",
              "      display: none;\n",
              "      fill: #1967D2;\n",
              "      height: 32px;\n",
              "      padding: 0 0 0 0;\n",
              "      width: 32px;\n",
              "    }\n",
              "\n",
              "    .colab-df-convert:hover {\n",
              "      background-color: #E2EBFA;\n",
              "      box-shadow: 0px 1px 2px rgba(60, 64, 67, 0.3), 0px 1px 3px 1px rgba(60, 64, 67, 0.15);\n",
              "      fill: #174EA6;\n",
              "    }\n",
              "\n",
              "    [theme=dark] .colab-df-convert {\n",
              "      background-color: #3B4455;\n",
              "      fill: #D2E3FC;\n",
              "    }\n",
              "\n",
              "    [theme=dark] .colab-df-convert:hover {\n",
              "      background-color: #434B5C;\n",
              "      box-shadow: 0px 1px 3px 1px rgba(0, 0, 0, 0.15);\n",
              "      filter: drop-shadow(0px 1px 2px rgba(0, 0, 0, 0.3));\n",
              "      fill: #FFFFFF;\n",
              "    }\n",
              "  </style>\n",
              "\n",
              "      <script>\n",
              "        const buttonEl =\n",
              "          document.querySelector('#df-3215f22e-eea1-466b-9aa6-0b9d30d5df71 button.colab-df-convert');\n",
              "        buttonEl.style.display =\n",
              "          google.colab.kernel.accessAllowed ? 'block' : 'none';\n",
              "\n",
              "        async function convertToInteractive(key) {\n",
              "          const element = document.querySelector('#df-3215f22e-eea1-466b-9aa6-0b9d30d5df71');\n",
              "          const dataTable =\n",
              "            await google.colab.kernel.invokeFunction('convertToInteractive',\n",
              "                                                     [key], {});\n",
              "          if (!dataTable) return;\n",
              "\n",
              "          const docLinkHtml = 'Like what you see? Visit the ' +\n",
              "            '<a target=\"_blank\" href=https://colab.research.google.com/notebooks/data_table.ipynb>data table notebook</a>'\n",
              "            + ' to learn more about interactive tables.';\n",
              "          element.innerHTML = '';\n",
              "          dataTable['output_type'] = 'display_data';\n",
              "          await google.colab.output.renderOutput(dataTable, element);\n",
              "          const docLink = document.createElement('div');\n",
              "          docLink.innerHTML = docLinkHtml;\n",
              "          element.appendChild(docLink);\n",
              "        }\n",
              "      </script>\n",
              "    </div>\n",
              "  </div>\n",
              "  "
            ],
            "text/plain": [
              "       N  time_cython  time_cython_par   speedup\n",
              "0     50     0.001086         0.000342  3.174216\n",
              "1    500     0.008462         0.006521  1.297554\n",
              "2   1000     0.030122         0.022974  1.311115\n",
              "3   3000     0.267939         0.207407  1.291854\n",
              "4   6000     1.091887         0.805967  1.354754\n",
              "5  10000     3.052394         2.267352  1.346238\n",
              "6  15000     7.008870         5.248217  1.335476\n",
              "7  20000    12.687019         9.465126  1.340396"
            ]
          },
          "execution_count": 20,
          "metadata": {},
          "output_type": "execute_result"
        }
      ],
      "source": [
        "df = pd.DataFrame({'N' :count_list, 'time_cython' : time_list_cython,'time_cython_par': time_list_cython_par})\n",
        "df['speedup'] = df['time_cython'] / df['time_cython_par']\n",
        "df"
      ]
    }
  ],
  "metadata": {
    "colab": {
      "collapsed_sections": [],
      "provenance": []
    },
    "kernelspec": {
      "display_name": "Python 3",
      "language": "python",
      "name": "python3"
    },
    "language_info": {
      "codemirror_mode": {
        "name": "ipython",
        "version": 3
      },
      "file_extension": ".py",
      "mimetype": "text/x-python",
      "name": "python",
      "nbconvert_exporter": "python",
      "pygments_lexer": "ipython3",
      "version": "3.7.10"
    }
  },
  "nbformat": 4,
  "nbformat_minor": 0
}